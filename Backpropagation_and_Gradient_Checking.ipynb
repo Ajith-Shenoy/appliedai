{
  "nbformat": 4,
  "nbformat_minor": 0,
  "metadata": {
    "colab": {
      "name": "Backpropagation and Gradient Checking.ipynb",
      "provenance": [],
      "collapsed_sections": [],
      "include_colab_link": true
    },
    "kernelspec": {
      "name": "python3",
      "display_name": "Python 3"
    }
  },
  "cells": [
    {
      "cell_type": "markdown",
      "metadata": {
        "id": "view-in-github",
        "colab_type": "text"
      },
      "source": [
        "<a href=\"https://colab.research.google.com/github/VishnuGupta5883/appliedai/blob/master/Backpropagation_and_Gradient_Checking.ipynb\" target=\"_parent\"><img src=\"https://colab.research.google.com/assets/colab-badge.svg\" alt=\"Open In Colab\"/></a>"
      ]
    },
    {
      "cell_type": "markdown",
      "metadata": {
        "id": "y871RZtRhCEH",
        "colab_type": "text"
      },
      "source": [
        "# <font color='red'>BackPropagation</font>"
      ]
    },
    {
      "cell_type": "markdown",
      "metadata": {
        "id": "LqePYi-4mFvK",
        "colab_type": "text"
      },
      "source": [
        "**There will be some functions that start with the word \"grader\" ex: grader_sigmoid(), grader_forwardprop(), grader_backprop() etc, you should not change those function definition.<br><br>Every Grader function has to return True.**"
      ]
    },
    {
      "cell_type": "markdown",
      "metadata": {
        "id": "0huUQ0byiI0I",
        "colab_type": "text"
      },
      "source": [
        "## <font color='red'>Loading data </font>"
      ]
    },
    {
      "cell_type": "code",
      "metadata": {
        "id": "qkFGd9x3dddF",
        "colab_type": "code",
        "colab": {
          "base_uri": "https://localhost:8080/",
          "height": 35
        },
        "outputId": "6c230edf-6166-4073-a1de-bdcba19b8be6"
      },
      "source": [
        "from google.colab import drive\n",
        "drive.mount('/content/drive')"
      ],
      "execution_count": null,
      "outputs": [
        {
          "output_type": "stream",
          "text": [
            "Drive already mounted at /content/drive; to attempt to forcibly remount, call drive.mount(\"/content/drive\", force_remount=True).\n"
          ],
          "name": "stdout"
        }
      ]
    },
    {
      "cell_type": "code",
      "metadata": {
        "id": "1hSje5CBgcUb",
        "colab_type": "code",
        "colab": {
          "base_uri": "https://localhost:8080/",
          "height": 52
        },
        "outputId": "eaa8d345-64f8-483d-fa9d-e7e4cd3abd4f"
      },
      "source": [
        "import pickle\n",
        "import numpy as np\n",
        "from tqdm import tqdm\n",
        "import matplotlib.pyplot as plt\n",
        "\n",
        "with open('/content/drive/My Drive/Colab Notebooks/data.pkl', 'rb') as f:\n",
        "    data = pickle.load(f)\n",
        "print(data.shape)\n",
        "X = data[:, :5]\n",
        "y = data[:, -1]\n",
        "print(X.shape, y.shape)"
      ],
      "execution_count": null,
      "outputs": [
        {
          "output_type": "stream",
          "text": [
            "(506, 6)\n",
            "(506, 5) (506,)\n"
          ],
          "name": "stdout"
        }
      ]
    },
    {
      "cell_type": "code",
      "metadata": {
        "id": "1mekV3xCCkgT",
        "colab_type": "code",
        "colab": {
          "base_uri": "https://localhost:8080/",
          "height": 52
        },
        "outputId": "9e28a3f0-9c76-4a5a-8973-f781080fc6d8"
      },
      "source": [
        "data[0]"
      ],
      "execution_count": null,
      "outputs": [
        {
          "output_type": "execute_result",
          "data": {
            "text/plain": [
              "array([-1.2879095 , -0.12001342, -1.45900038, -0.66660821, -0.14421743,\n",
              "        1.85884913])"
            ]
          },
          "metadata": {
            "tags": []
          },
          "execution_count": 4
        }
      ]
    },
    {
      "cell_type": "markdown",
      "metadata": {
        "id": "5JL-0soQistC",
        "colab_type": "text"
      },
      "source": [
        "# <font color='red'>Computational graph</font>"
      ]
    },
    {
      "cell_type": "markdown",
      "metadata": {
        "id": "nREnTTJ3i0Vd",
        "colab_type": "text"
      },
      "source": [
        "<img src='https://i.imgur.com/seSGbNS.png'>"
      ]
    },
    {
      "cell_type": "markdown",
      "metadata": {
        "id": "DSPX_H_4i_HT",
        "colab_type": "text"
      },
      "source": [
        "\n",
        "*  **If you observe the graph, we are having input features [f1, f2, f3, f4, f5] and 9 weights [w1, w2, w3, w4, w5, w6,    w7, w8, w9]**.<br><br>\n",
        "*  **The final output of this graph is a value L which is computed as (Y-Y')^2** "
      ]
    },
    {
      "cell_type": "markdown",
      "metadata": {
        "id": "D54eDEv6jkO4",
        "colab_type": "text"
      },
      "source": [
        "# <font color='red'>Task 1: Implementing backpropagation and Gradient checking </font>"
      ]
    },
    {
      "cell_type": "markdown",
      "metadata": {
        "id": "qocI1Vzqkod9",
        "colab_type": "text"
      },
      "source": [
        "<font color='blue'><b>Check this video for better understanding of the computational graphs and back propagation</font>"
      ]
    },
    {
      "cell_type": "code",
      "metadata": {
        "id": "Wb5WMdwJinlX",
        "colab_type": "code",
        "colab": {
          "base_uri": "https://localhost:8080/",
          "height": 521
        },
        "outputId": "f004d826-2ba4-4128-95f5-93022bebce2e"
      },
      "source": [
        "from IPython.display import YouTubeVideo\n",
        "YouTubeVideo('i94OvYb6noo',width=\"1000\",height=\"500\")"
      ],
      "execution_count": null,
      "outputs": [
        {
          "output_type": "execute_result",
          "data": {
            "text/html": [
              "\n",
              "        <iframe\n",
              "            width=\"1000\"\n",
              "            height=\"500\"\n",
              "            src=\"https://www.youtube.com/embed/i94OvYb6noo\"\n",
              "            frameborder=\"0\"\n",
              "            allowfullscreen\n",
              "        ></iframe>\n",
              "        "
            ],
            "text/plain": [
              "<IPython.lib.display.YouTubeVideo at 0x7f3f2526e470>"
            ],
            "image/jpeg": "[encoded data removed]"
          },
          "metadata": {
            "tags": []
          },
          "execution_count": 5
        }
      ]
    },
    {
      "cell_type": "markdown",
      "metadata": {
        "id": "2jecTyVRlh-6",
        "colab_type": "text"
      },
      "source": [
        "\n",
        "*  <b>Write two functions<br>\n",
        "    *  Forward propagation</b>(Write your code in<font color='blue'> def forward_propagation()</b></font>)<br><br>\n",
        "    For easy debugging, we will break the computational graph into 3 parts.\n",
        "\n",
        "    <font color='green'><b>Part 1</b></font></b>\n",
        "    <img src='https://i.imgur.com/0xUaxy6.png'><br><br>\n",
        "    <font color='green'><b>Part 2</b></font></b><br>\n",
        "    <img src='https://i.imgur.com/J29pAJL.png'><br><br>\n",
        "    <font color='green'><b>Part 3</b></font></b>\n",
        "    <img src='https://i.imgur.com/vMyCsd9.png'>\n",
        "\n",
        "    <pre>\n",
        "    <font color='green'>\n",
        "def forward_propagation(X, y, W):\n",
        "        <font color='grey'>\n",
        "        # X: input data point, note that in this assignment you are having 5-d data points\n",
        "        # y: output varible\n",
        "        # W: weight array, its of length 9, W[0] corresponds to w1 in graph, W[1] corresponds to w2 in graph, <br>         ..., W[8] corresponds to w9 in graph.  \n",
        "        # you have to return the following variables\n",
        "        # exp= part1 (compute the forward propagation until exp and then store the values in exp)\n",
        "        # tanh =part2(compute the forward propagation until tanh and then store the values in tanh)\n",
        "        # sig = part3(compute the forward propagation until sigmoid and then store the values in sig)\n",
        "        # now compute remaining values from computional graph and get y'\n",
        "        # write code to compute the value of L=(y-y')^2\n",
        "        # compute derivative of L  w.r.to Y' and store it in dl\n",
        "        # Create a dictionary to store all the intermediate values\n",
        "        # store L, exp,tanh,sig,dl variables\n",
        "        </font>\n",
        "        return (dictionary, which you might need to use for back propagation)\n",
        "        <font color='grey'>\n",
        "        </font>\n",
        "</font>\n",
        "</pre>\n",
        "    *  <b>Backward propagation</b>(Write your code in<font color='blue'> def backward_propagation()</b></font>)\n",
        "    </b>\n",
        "    <pre>\n",
        "    <font color='green'>\n",
        "    def backward_propagation(L, W,dictionary):\n",
        "        <font color='grey'>\n",
        "        # L: the loss we calculated for the current point\n",
        "        # dictionary: the outputs of the forward_propagation() function\n",
        "        # write code to compute the gradients of each weight [w1,w2,w3,...,w9]\n",
        "        # Hint: you can use dict type to store the required variables \n",
        "        # return dW, dW is a dictionary with gradients of all the weights\n",
        "        </font>\n",
        "        return dW\n",
        "        </font>\n",
        "</font>\n",
        "</pre>"
      ]
    },
    {
      "cell_type": "markdown",
      "metadata": {
        "id": "STS4NrQQc6OH",
        "colab_type": "text"
      },
      "source": [
        " ## <font color='red'>Gradient clipping</font>"
      ]
    },
    {
      "cell_type": "markdown",
      "metadata": {
        "id": "XY7ivRNzdPok",
        "colab_type": "text"
      },
      "source": [
        "<b> Check this  <a href='https://towardsdatascience.com/how-to-debug-a-neural-network-with-gradient-checking-41deec0357a9'>blog link</a> for more details on Gradient clipping"
      ]
    },
    {
      "cell_type": "markdown",
      "metadata": {
        "id": "BrsfpDoidtZ5",
        "colab_type": "text"
      },
      "source": [
        " we know that the derivative of any function is\n",
        " \n",
        " $$\\lim_{\\epsilon\\to0}\\frac{f(x+\\epsilon)-f(x-\\epsilon)}{2\\epsilon}$$\n"
      ]
    },
    {
      "cell_type": "markdown",
      "metadata": {
        "id": "vUcmt0kPd02f",
        "colab_type": "text"
      },
      "source": [
        "*  The definition above can be used as a numerical approximation of the derivative. Taking an epsilon small enough, the calculated approximation will have an error in the range of epsilon squared. \n",
        "\n",
        "*  In other words, if epsilon is 0.001, the approximation will be off by 0.00001.\n",
        "\n",
        "Therefore, we can use this to approximate the gradient, and in turn make sure that backpropagation is implemented properly. This forms the basis of <b>gradient checking!</b>"
      ]
    },
    {
      "cell_type": "markdown",
      "metadata": {
        "id": "pFSu16KCeU0x",
        "colab_type": "text"
      },
      "source": [
        "## <Font color='blue'>Gradient checking example</font>"
      ]
    },
    {
      "cell_type": "markdown",
      "metadata": {
        "id": "Gz0mmT_xecfC",
        "colab_type": "text"
      },
      "source": [
        "<font >\n",
        "lets understand the concept with a simple example:\n",
        "$f(w1,w2,x1,x2)=w_{1}^{2} . x_{1} + w_{2} . x_{2}$ \n",
        "\n",
        "from the above function , lets assume $w_{1}=1$, $w_{2}=2$, $x_{1}=3$, $x_{2}=4$ the gradient of $f$ w.r.t $w_{1}$ is\n",
        "\n",
        "\\begin{array} {lcl}\n",
        "\\frac{df}{dw_{1}} = dw_{1} &=&2.w_{1}.x_{1} \\\\& = &2.1.3\\\\& = &6\n",
        "\\end{array}\n",
        "\n",
        "\n",
        "let calculate the aproximate gradient of $w_{1}$ as mentinoned in the above formula and considering $\\epsilon=0.0001$\n",
        "\n",
        "\\begin{array} {lcl}\n",
        "dw_1^{approx} & = & \\frac{f(w1+\\epsilon,w2,x1,x2)-f(w1-\\epsilon,w2,x1,x2)}{2\\epsilon} \\\\ & = & \\frac{((1+0.0001)^{2} . 3 + 2 . 4) - ((1-0.0001)^{2} . 3 + 2 . 4)}{2\\epsilon} \\\\ & = & \\frac{(1.00020001 . 3 + 2 . 4) - (0.99980001. 3 + 2 . 4)}{2*0.0001} \\\\ & = & \\frac{(11.00060003) - (10.99940003)}{0.0002}\\\\ & = & 5.99999999999\n",
        "\\end{array}\n",
        "\n",
        "Then, we apply the following formula for gradient check: <i>gradient_check</i> = \n",
        "$\\frac{\\left\\Vert\\left (dW-dW^{approx}\\rm\\right) \\right\\Vert_2}{\\left\\Vert\\left (dW\\rm\\right) \\right\\Vert_2+\\left\\Vert\\left (dW^{approx}\\rm\\right) \\right\\Vert_2}$\n",
        "\n",
        "The equation above is basically the Euclidean distance normalized by the sum of the norm of the vectors. We use normalization in case that one of the vectors is very small.\n",
        "As a value for epsilon, we usually opt for 1e-7. Therefore, if gradient check return a value less than 1e-7, then it means that backpropagation was implemented correctly. Otherwise, there is potentially a mistake in your implementation. If the value exceeds 1e-3, then you are sure that the code is not correct.\n",
        "\n",
        "in our example: <i>gradient_check</i> $ = \\frac{(6 - 5.999999999994898)}{(6 + 5.999999999994898)} = 4.2514140356330737e^{-13}$\n",
        "\n",
        "you can mathamatically derive the same thing like this\n",
        "\n",
        "\\begin{array} {lcl}\n",
        "dw_1^{approx} & = & \\frac{f(w1+\\epsilon,w2,x1,x2)-f(w1-\\epsilon,w2,x1,x2)}{2\\epsilon} \\\\ & = & \\frac{((w_{1}+\\epsilon)^{2} . x_{1} + w_{2} . x_{2}) - ((w_{1}-\\epsilon)^{2} . x_{1} + w_{2} . x_{2})}{2\\epsilon} \\\\ & = & \\frac{4. \\epsilon.w_{1}. x_{1}}{2\\epsilon} \\\\ & = &  2.w_{1}.x_{1}\n",
        "\\end{array}\n"
      ]
    },
    {
      "cell_type": "markdown",
      "metadata": {
        "id": "f1BFQQaCermK",
        "colab_type": "text"
      },
      "source": [
        "## <font color='red'> Implement Gradient checking </font> <br>\n",
        " (Write your code in <font color='blue'> def gradient_checking()</font>)"
      ]
    },
    {
      "cell_type": "markdown",
      "metadata": {
        "id": "GqpfA3AqfJba",
        "colab_type": "text"
      },
      "source": [
        "**Algorithm** \n",
        "\n"
      ]
    },
    {
      "cell_type": "markdown",
      "metadata": {
        "id": "FL39KeRFfNoD",
        "colab_type": "text"
      },
      "source": [
        "<pre>\n",
        "<font color='darkblue'>\n",
        "W = initilize_randomly\n",
        "def gradient_checking(data_point, W):<font color='grey'>\n",
        "    # compute the L value using forward_propagation()\n",
        "    # compute the gradients of W using backword_propagation()</font>\n",
        "    approx_gradients = []\n",
        "    for each wi weight value in W:<font color='grey'>\n",
        "        # add a small value to weight wi, and then find the values of L with the updated weights\n",
        "        # subtract a small value to weight wi, and then find the values of L with the updated weights\n",
        "        # compute the approximation gradients of weight wi</font>\n",
        "        approx_gradients.append(approximation gradients of weight wi)<font color='grey'>\n",
        "    # compare the gradient of weights W from backword_propagation() with the aproximation gradients of weights with <br>  gradient_check formula</font>\n",
        "    return gradient_check</font>\n",
        "<b>NOTE: you can do sanity check by checking all the return values of gradient_checking(),<br> they have to be zero. if not you have bug in your code\n",
        "</pre></b>"
      ]
    },
    {
      "cell_type": "markdown",
      "metadata": {
        "id": "0ufbFBFfhgL0",
        "colab_type": "text"
      },
      "source": [
        "# <font color='red'> Task 2 : Optimizers </font>"
      ]
    },
    {
      "cell_type": "markdown",
      "metadata": {
        "id": "7zt05soYh1RM",
        "colab_type": "text"
      },
      "source": [
        "* As a part of this task, you will be implementing 3 type of optimizers(methods to update weight)\n",
        "* Use the same computational graph that was mentioned above to do this task\n",
        "* Initilze the 9 weights from normal distribution with mean=0 and std=0.01"
      ]
    },
    {
      "cell_type": "markdown",
      "metadata": {
        "id": "CAyi7aSAicbr",
        "colab_type": "text"
      },
      "source": [
        "**Check below video and <a href='https://cs231n.github.io/neural-networks-3/'>this</a> blog**"
      ]
    },
    {
      "cell_type": "code",
      "metadata": {
        "id": "ZogcxiegkQpz",
        "colab_type": "code",
        "colab": {
          "base_uri": "https://localhost:8080/",
          "height": 521
        },
        "outputId": "4e9beead-a045-495f-8221-3b4706085d95"
      },
      "source": [
        "from IPython.display import YouTubeVideo\n",
        "YouTubeVideo('gYpoJMlgyXA',width=\"1000\",height=\"500\")"
      ],
      "execution_count": null,
      "outputs": [
        {
          "output_type": "execute_result",
          "data": {
            "text/html": [
              "\n",
              "        <iframe\n",
              "            width=\"1000\"\n",
              "            height=\"500\"\n",
              "            src=\"https://www.youtube.com/embed/gYpoJMlgyXA\"\n",
              "            frameborder=\"0\"\n",
              "            allowfullscreen\n",
              "        ></iframe>\n",
              "        "
            ],
            "text/plain": [
              "<IPython.lib.display.YouTubeVideo at 0x7f3f2526ecf8>"
            ],
            "image/jpeg": "[encoded data removed]"
          },
          "metadata": {
            "tags": []
          },
          "execution_count": 6
        }
      ]
    },
    {
      "cell_type": "markdown",
      "metadata": {
        "id": "jmefh7ktjbaR",
        "colab_type": "text"
      },
      "source": [
        "<font color='blue'><b>Algorithm</b>"
      ]
    },
    {
      "cell_type": "markdown",
      "metadata": {
        "id": "nAc4NudkjdNa",
        "colab_type": "text"
      },
      "source": [
        "<pre>\n",
        "    for each epoch(1-100):\n",
        "        for each data point in your data:\n",
        "            using the functions forward_propagation() and backword_propagation() compute the gradients of weights\n",
        "            update the weigts with help of gradients  ex: w1 = w1-learning_rate*dw1\n",
        "</pre>"
      ]
    },
    {
      "cell_type": "markdown",
      "metadata": {
        "id": "_fdmPNqtjm3X",
        "colab_type": "text"
      },
      "source": [
        "## <font color='red'> Implement below tasks</b>"
      ]
    },
    {
      "cell_type": "markdown",
      "metadata": {
        "id": "Ll9-CRsLjx_D",
        "colab_type": "text"
      },
      "source": [
        "\n",
        "*  <b>Task 2.1</b>: you will be implementing the above algorithm with <b>Vanilla update</b> of weights<br><br>\n",
        "*  <b>Task 2.2</b>: you will be implementing the above algorithm with <b>Momentum update</b> of weights<br><br>\n",
        "*  <b>Task 2.3</b>: you will be implementing the above algorithm with <b>Adam update</b> of weights\n"
      ]
    },
    {
      "cell_type": "markdown",
      "metadata": {
        "id": "atp082demrUR",
        "colab_type": "text"
      },
      "source": [
        "**Note : If you get any assertion error while running grader functions, please print the variables in grader functions and check which variable is returning False .Recheck your logic for that variable .**"
      ]
    },
    {
      "cell_type": "markdown",
      "metadata": {
        "id": "phG2WDkjkuIL",
        "colab_type": "text"
      },
      "source": [
        "<br>\n",
        "<br>\n",
        "<br>"
      ]
    },
    {
      "cell_type": "markdown",
      "metadata": {
        "id": "CBaPzHP63grG",
        "colab_type": "text"
      },
      "source": [
        "# <font color='red'>Task 1 </font>"
      ]
    },
    {
      "cell_type": "markdown",
      "metadata": {
        "id": "QfmV3FUgSrBo",
        "colab_type": "text"
      },
      "source": [
        "## <font color='blue'>Forward propagation </font>"
      ]
    },
    {
      "cell_type": "code",
      "metadata": {
        "id": "5_pBivcY30qf",
        "colab_type": "code",
        "colab": {}
      },
      "source": [
        "import math\n",
        "def sigmoid(z):\n",
        "  '''In this function, we will compute the sigmoid(z)'''\n",
        "  # we can use this function in forward and backward propagation\n",
        "  return 1 / (1 + math.exp(-z))\n",
        "    \n",
        "def forward_propagation(x, y, w):\n",
        "  '''In this function, we will compute the forward propagation '''\n",
        "  # X: input data point, note that in this assignment you are having 5-d data points\n",
        "  # y: output varible\n",
        "  # W: weight array, its of length 9, W[0] corresponds to w1 in graph, W[1] corresponds to w2 in graph,..., W[8] corresponds to w9 in graph.  \n",
        "  # you have to return the following variables\n",
        "  # exp= part1 (compute the forward propagation until exp and then store the values in exp)\n",
        "  # tanh =part2(compute the forward propagation until tanh and then store the values in tanh)\n",
        "  # sig = part3(compute the forward propagation until sigmoid and then store the values in sig)\n",
        "  # now compute remaining values from computional graph and get y'\n",
        "  # write code to compute the value of L=(y-y')^2\n",
        "  # compute derivative of L  w.r.to Y' and store it in dl\n",
        "  # Create a dictionary to store all the intermediate values\n",
        "  # store L, exp,tanh,sig variables\n",
        "  #return (dictionary, which you might need to use for back propagation)\n",
        "  dict ={}\n",
        "  dict['p1_1'] = x[0] * w[0]\n",
        "  dict['p1_2'] = x[1] * w[1]\n",
        "  dict['p1_3'] = dict['p1_1'] + dict['p1_2']\n",
        "  dict['p1_4'] = dict['p1_3']\n",
        "  dict['p1_5'] = dict['p1_3'] * dict['p1_4']\n",
        "  dict['p1_6'] = dict['p1_5'] + w[5] \n",
        "  dict['exp']  = np.exp(dict['p1_6'])\n",
        "  dict['p2_1'] = dict['exp'] + w[6]\n",
        "  dict['tanh'] = np.tanh(dict['p2_1'])\n",
        "  dict['p3_1'] = x[2] * w[2]\n",
        "  dict['p3_2'] = x[3] * w[3]\n",
        "  dict['p3_3'] = x[4] * w[4]\n",
        "  dict['p3_4'] = np.sin(dict['p3_1'])\n",
        "  dict['p3_5'] = dict['p3_2'] + dict['p3_3']\n",
        "  dict['p3_6'] = dict['p3_4'] * dict['p3_5']\n",
        "  dict['p3_7'] = dict['p3_6'] + w[7]\n",
        "  dict['sigmoid'] = sigmoid(dict['p3_7'])\n",
        "  y_hat = dict['sigmoid'] * w[8] + dict['tanh']\n",
        "  dict['loss'] = (y -y_hat) **2 \n",
        "  dict['dl'] = 2 * (y- y_hat) * (-1)\n",
        "  return dict\n",
        "\n",
        "\n"
      ],
      "execution_count": null,
      "outputs": []
    },
    {
      "cell_type": "markdown",
      "metadata": {
        "id": "z-z1rGKqCHNN",
        "colab_type": "text"
      },
      "source": [
        "<font color='cyan'>Grader function - 1</font>"
      ]
    },
    {
      "cell_type": "code",
      "metadata": {
        "id": "6ZxFF00zBmx1",
        "colab_type": "code",
        "colab": {
          "base_uri": "https://localhost:8080/",
          "height": 35
        },
        "outputId": "a4db4680-603d-4aa9-8414-3b22ddbf16ad"
      },
      "source": [
        "def grader_sigmoid(z):\n",
        "  val=sigmoid(z)\n",
        "  assert(val==0.8807970779778823)\n",
        "  return True\n",
        "grader_sigmoid(2)"
      ],
      "execution_count": null,
      "outputs": [
        {
          "output_type": "execute_result",
          "data": {
            "text/plain": [
              "True"
            ]
          },
          "metadata": {
            "tags": []
          },
          "execution_count": 8
        }
      ]
    },
    {
      "cell_type": "markdown",
      "metadata": {
        "id": "KgAUXq_aChey",
        "colab_type": "text"
      },
      "source": [
        "<font color='cyan'>Grader function - 2 </font>"
      ]
    },
    {
      "cell_type": "code",
      "metadata": {
        "id": "3uzsUqcjCorN",
        "colab_type": "code",
        "colab": {
          "base_uri": "https://localhost:8080/",
          "height": 35
        },
        "outputId": "93cd5235-ebba-45b1-e375-f5798415ba2a"
      },
      "source": [
        "def grader_forwardprop(data):\n",
        "    dl = (np.round(data['dl'],4)==-1.9285)\n",
        "    loss=(np.round(data['loss'],4)==0.9298)\n",
        "    part1=(np.round(data['exp'],4)==1.1273)\n",
        "    part2=(np.round(data['tanh'],4)==0.8418)\n",
        "    part3=(np.round(data['sigmoid'],4)==0.5279)\n",
        "    assert(dl and loss and part1 and part2 and part3)\n",
        "    return True\n",
        "w=np.ones(9)*0.1\n",
        "d1=forward_propagation(X[0],y[0],w)\n",
        "grader_forwardprop(d1)"
      ],
      "execution_count": null,
      "outputs": [
        {
          "output_type": "execute_result",
          "data": {
            "text/plain": [
              "True"
            ]
          },
          "metadata": {
            "tags": []
          },
          "execution_count": 9
        }
      ]
    },
    {
      "cell_type": "markdown",
      "metadata": {
        "id": "obOaAqj3Sxvb",
        "colab_type": "text"
      },
      "source": [
        "## <font color='blue'>Backward propagation</font>"
      ]
    },
    {
      "cell_type": "code",
      "metadata": {
        "id": "dS49ykcOGhIv",
        "colab_type": "code",
        "colab": {}
      },
      "source": [
        "def backward_propagation(x,W,dict):\n",
        "  '''In this function, we will compute the backward propagation '''\n",
        "  # L: the loss we calculated for the current point\n",
        "  # dictionary: the outputs of the forward_propagation() function\n",
        "  # write code to compute the gradients of each weight [w1,w2,w3,...,w9]\n",
        "  # Hint: you can use dict type to store the required variables \n",
        "  # dw1 = # in dw1 compute derivative of L w.r.to w1\n",
        "  # dw2 = # in dw2 compute derivative of L w.r.to w2\n",
        "  # dw3 = # in dw3 compute derivative of L w.r.to w3\n",
        "  # dw4 = # in dw4 compute derivative of L w.r.to w4\n",
        "  # dw5 = # in dw5 compute derivative of L w.r.to w5\n",
        "  # dw6 = # in dw6 compute derivative of L w.r.to w6\n",
        "  # dw7 = # in dw7 compute derivative of L w.r.to w7\n",
        "  # dw8 = # in dw8 compute derivative of L w.r.to w8\n",
        "  # dw9 = # in dw9 compute derivative of L w.r.to w9\n",
        "  # return dW, dW is a dictionary with gradients of all the weights\n",
        "  dW = {}\n",
        "  k  = dict['dl']\n",
        "  dW['dw9'] = k * dict['sigmoid']\n",
        "  dW['dw8'] = k * w[8] * (dict['sigmoid'] *(1- dict['sigmoid']))\n",
        "  dW['dw7'] = k * (1- (dict['tanh']**2))\n",
        "  dW['dw6'] = k * (1- (dict['tanh']**2)) * dict['exp']\n",
        "  dW['dw5'] = dW['dw8'] * dict['p3_4'] *x[4]\n",
        "  dW['dw4'] = dW['dw8'] * dict['p3_4'] *x[3]\n",
        "  dW['dw3'] = dW['dw8']* ((x[3]*w[3])+(x[4]*w[4])) * np.cos(dict['p3_1'])* x[2]\n",
        "  dW['dw2'] = dW['dw6'] * 2 *((w[0]*x[0])+(x[1]*w[1]))* x[1]\n",
        "  dW['dw1'] = dW['dw6'] * 2 *((w[0]*x[0])+(x[1]*w[1]))* x[0]\n",
        "\n",
        "  return dW"
      ],
      "execution_count": null,
      "outputs": []
    },
    {
      "cell_type": "markdown",
      "metadata": {
        "id": "2NpZWAVlS4jb",
        "colab_type": "text"
      },
      "source": [
        "<font color='cyan'>Grader function - 3 </font>"
      ]
    },
    {
      "cell_type": "code",
      "metadata": {
        "id": "1a8Kll2xGhMJ",
        "colab_type": "code",
        "colab": {
          "base_uri": "https://localhost:8080/",
          "height": 35
        },
        "outputId": "a6b06c43-9572-499f-9cc1-be3cfbe534f5"
      },
      "source": [
        "def grader_backprop(data):\n",
        "    dw1=(np.round(data['dw1'],8)==-0.22973323)\n",
        "    dw2=(np.round(data['dw2'],8)==-0.02140761)\n",
        "    dw3=(np.round(data['dw3'],8)==-0.00562541)\n",
        "    dw4=(np.round(data['dw4'],8)==-0.00465794)\n",
        "    dw5=(np.round(data['dw5'],8)==-0.00100772)\n",
        "    dw6=(np.round(data['dw6'],8)==-0.63347519)\n",
        "    dw7=(np.round(data['dw7'],8)==-0.56194184)\n",
        "    dw8=(np.round(data['dw8'],8)==-0.04806288)\n",
        "    dw9=(np.round(data['dw9'],8)==-1.01810444)\n",
        "    assert(dw1 and dw2 and dw3 and dw4 and dw5 and dw6 and dw7 and dw8 and dw9)\n",
        "    return True \n",
        "w=np.ones(9)*0.1\n",
        "d1=forward_propagation(X[0],y[0],w)\n",
        "d1=backward_propagation(X[0],w,d1)\n",
        "grader_backprop(d1)"
      ],
      "execution_count": null,
      "outputs": [
        {
          "output_type": "execute_result",
          "data": {
            "text/plain": [
              "True"
            ]
          },
          "metadata": {
            "tags": []
          },
          "execution_count": 11
        }
      ]
    },
    {
      "cell_type": "markdown",
      "metadata": {
        "id": "1rfHHXZwgwo6",
        "colab_type": "text"
      },
      "source": [
        "## <font color='blue'> Implement gradient checking</font>"
      ]
    },
    {
      "cell_type": "code",
      "metadata": {
        "id": "oh8wj1yjGhOi",
        "colab_type": "code",
        "colab": {
          "base_uri": "https://localhost:8080/",
          "height": 90
        },
        "outputId": "d0dfb299-e7ed-420c-caa5-443bbe553e6f"
      },
      "source": [
        "def gradient_checking(data, W):\n",
        "  # compute the L value using forward_propagation()\n",
        "  X= data[:, :5]\n",
        "  y = data[:, -1] \n",
        "  L = forward_propagation(X[0],y[0],W)\n",
        "  print(\"Loss\",L['loss'])                      \n",
        "  # compute the gradients of W using backword_propagation()\n",
        "  dw = backward_propagation(X[0],W,L)\n",
        "  print(\"Gradient\",dw)\n",
        "  approx_gradients = []\n",
        "  gradient_check = []\n",
        "  e_0 = 0.0001\n",
        "  for i in range(9):\n",
        "    W[i] = W[i] + e_0\n",
        "    #print(W)\n",
        "    dl1 = forward_propagation(X[0],y[0],W)\n",
        "    l1  = dl1['loss']\n",
        "    W[i] = W[i] - (2*e_0)\n",
        "    #print(W)\n",
        "    dl2 = forward_propagation(X[0],y[0],W)\n",
        "    l2  = dl2['loss']\n",
        "    dw_approx = (l1-l2)/ (2*e_0)\n",
        "    approx_gradients.append(dw_approx)\n",
        "  #print(approx_gradients)\n",
        "  \n",
        "  for i in range(9):\n",
        "    gradient_check.append(approx_gradients[i] - dw['dw' + str(i+1)])\n",
        "  \"\"\"\n",
        "  gradient_check.append(approx_gradients[0] - dw['dw1'])\n",
        "  gradient_check.append(approx_gradients[1] - dw['dw2'])\n",
        "  gradient_check.append(approx_gradients[2] - dw['dw3'])\n",
        "  gradient_check.append(approx_gradients[3] - dw['dw4'])\n",
        "  gradient_check.append(approx_gradients[4] - dw['dw5'])\n",
        "  gradient_check.append(approx_gradients[5] - dw['dw6'])\n",
        "  gradient_check.append(approx_gradients[6] - dw['dw7'])\n",
        "  gradient_check.append(approx_gradients[7] - dw['dw8'])\n",
        "  gradient_check.append(approx_gradients[8] - dw['dw9'])\n",
        "  \"\"\"\n",
        "  return gradient_check\n",
        " \n",
        "# initialize weights\n",
        "W=np.ones(9)*0.1\n",
        "diff = gradient_checking(data,W)\n",
        "print(diff)\n"
      ],
      "execution_count": null,
      "outputs": [
        {
          "output_type": "stream",
          "text": [
            "Loss 0.9298048963072919\n",
            "Gradient {'dw9': -1.0181044360187037, 'dw8': -0.04806288407316516, 'dw7': -0.561941842854033, 'dw6': -0.6334751873437471, 'dw5': -0.0010077228498574246, 'dw4': -0.004657941222712423, 'dw3': -0.005625405580266319, 'dw2': -0.02140761471775293, 'dw1': -0.22973323498702}\n",
            "[4.765002142859132e-09, 1.8622573097645118e-05, -7.591536392743958e-08, 4.557630366739361e-06, 9.852254813384666e-07, -3.14725668294491e-05, -0.00017599811356894257, -3.831193749366524e-06, -2.3099298455564465e-05]\n"
          ],
          "name": "stdout"
        }
      ]
    },
    {
      "cell_type": "markdown",
      "metadata": {
        "id": "MhwDSe99kJ32",
        "colab_type": "text"
      },
      "source": [
        "# <font color='red'>Task 2: Optimizers"
      ]
    },
    {
      "cell_type": "markdown",
      "metadata": {
        "id": "jJzI-vnPk1dB",
        "colab_type": "text"
      },
      "source": [
        "###<font color='blue'>Algorithm with Vanilla update of weights</font>"
      ]
    },
    {
      "cell_type": "code",
      "metadata": {
        "id": "eYHJA5bzoIMv",
        "colab_type": "code",
        "colab": {
          "base_uri": "https://localhost:8080/",
          "height": 52
        },
        "outputId": "9be13f13-4656-4dd4-da2d-3f9e961d48e2"
      },
      "source": [
        "#Weight initialization\n",
        "import numpy as np\n",
        "\n",
        "W1 = np.random.normal(0,0.01,9)\n",
        "print(W1)"
      ],
      "execution_count": null,
      "outputs": [
        {
          "output_type": "stream",
          "text": [
            "[ 0.01218038  0.00427173  0.00718199 -0.00781432 -0.00915735  0.01717159\n",
            "  0.00631457 -0.00528249  0.0040252 ]\n"
          ],
          "name": "stdout"
        }
      ]
    },
    {
      "cell_type": "code",
      "metadata": {
        "id": "xJspU6ZuGhRQ",
        "colab_type": "code",
        "colab": {
          "base_uri": "https://localhost:8080/",
          "height": 1000
        },
        "outputId": "dc3f7fd0-df7c-427e-e2f9-0415599460b4"
      },
      "source": [
        "epochs =100\n",
        "learning_rate = 0.01\n",
        "vanila_loss =[]\n",
        "for epoch in range(epochs):\n",
        "  loss=0\n",
        "  for i in range(0,506):\n",
        "    #using the functions forward_propagation() and backword_propagation() compute the gradients of weights\n",
        "    #update the weigts with help of gradients  ex: w1 = w1-learning_rate*dw1\n",
        "    l = forward_propagation(X[i],y[i],W1)\n",
        "    loss+= l['loss']\n",
        "    dw = backward_propagation(X[i],W1,l)\n",
        "    key_l = list(dw.keys())\n",
        "    key_l.reverse()\n",
        "    #print(type(key_l))\n",
        "    #print(key_l)\n",
        "    for i in range(0,9):\n",
        "      W1[i] = W1[i]- learning_rate * dw[key_l[i]]\n",
        "  vanila_loss.append(loss)\n",
        "  print(epoch, loss)\n",
        "    "
      ],
      "execution_count": null,
      "outputs": [
        {
          "output_type": "stream",
          "text": [
            "0 75.12715290529732\n",
            "1 14.408271431836496\n",
            "2 15.045378616262939\n",
            "3 15.082478688505521\n",
            "4 15.075979653658885\n",
            "5 15.065024807921265\n",
            "6 15.05132486373774\n",
            "7 15.034571666386524\n",
            "8 15.01435651279653\n",
            "9 14.990274034734103\n",
            "10 14.961929365994527\n",
            "11 14.928940252941613\n",
            "12 14.890938976749784\n",
            "13 14.84757432751871\n",
            "14 14.798513622231093\n",
            "15 14.743444743820156\n",
            "16 14.682078176520532\n",
            "17 14.614149011464184\n",
            "18 14.539418895549815\n",
            "19 14.457677895951141\n",
            "20 14.368746252255018\n",
            "21 14.27247598813849\n",
            "22 14.16875235472546\n",
            "23 14.057495078298082\n",
            "24 13.938659385880783\n",
            "25 13.812236783355399\n",
            "26 13.678255562190751\n",
            "27 13.53678101256211\n",
            "28 13.387915322577689\n",
            "29 13.23179714549312\n",
            "30 13.068600819164118\n",
            "31 12.898535224540748\n",
            "32 12.721842272732758\n",
            "33 12.538795013082417\n",
            "34 12.349695357788368\n",
            "35 12.154871421993244\n",
            "36 11.954674481976062\n",
            "37 11.749475558338554\n",
            "38 11.539661636072028\n",
            "39 11.325631539474697\n",
            "40 11.10779148750355\n",
            "41 10.886550364893836\n",
            "42 10.662314757047733\n",
            "43 10.43548381326107\n",
            "44 10.206444024533823\n",
            "45 9.975564030363003\n",
            "46 9.743189604959491\n",
            "47 9.509639018389922\n",
            "48 9.275199022453148\n",
            "49 9.040121772986847\n",
            "50 8.804623064642419\n",
            "51 8.568882310487576\n",
            "52 8.333044729348853\n",
            "53 8.09722618274105\n",
            "54 7.861520998607165\n",
            "55 7.6260128998082495\n",
            "56 7.39078880434838\n",
            "57 7.155954796737235\n",
            "58 6.921653048830637\n",
            "59 6.688078007743384\n",
            "60 6.455489910099516\n",
            "61 6.2242237480703375\n",
            "62 5.994692248553995\n",
            "63 5.767382166910223\n",
            "64 5.542844079165429\n",
            "65 5.321676683459663\n",
            "66 5.104507229447766\n",
            "67 4.891969998845188\n",
            "68 4.684684758160102\n",
            "69 4.48323685060651\n",
            "70 4.288160174000071\n",
            "71 4.099923801406029\n",
            "72 3.918922531264082\n",
            "73 3.74547127069195\n",
            "74 3.57980289259973\n",
            "75 3.422069062630411\n",
            "76 3.272343480667613\n",
            "77 3.130626990521769\n",
            "78 2.9968540517156295\n",
            "79 2.8709001205135576\n",
            "80 2.7525895445986155\n",
            "81 2.6417036342779725\n",
            "82 2.537988632290654\n",
            "83 2.4411633636982257\n",
            "84 2.3509264056763404\n",
            "85 2.2669626724741274\n",
            "86 2.18894936162715\n",
            "87 2.116561252585139\n",
            "88 2.0494753880799816\n",
            "89 1.9873752027004437\n",
            "90 1.929954194196437\n",
            "91 1.8769192640325503\n",
            "92 1.8279938889430685\n",
            "93 1.7829213307721132\n",
            "94 1.7414681565425165\n",
            "95 1.7034284379145916\n",
            "96 1.6686291502747312\n",
            "97 1.636937531679245\n",
            "98 1.6082715502499543\n",
            "99 1.5826152692429976\n"
          ],
          "name": "stdout"
        }
      ]
    },
    {
      "cell_type": "markdown",
      "metadata": {
        "id": "UlTLXrvmlR26",
        "colab_type": "text"
      },
      "source": [
        "<font color='blue'>Plot between epochs and loss</font>"
      ]
    },
    {
      "cell_type": "code",
      "metadata": {
        "id": "CjTCVUIoGhTo",
        "colab_type": "code",
        "colab": {
          "base_uri": "https://localhost:8080/",
          "height": 295
        },
        "outputId": "e9e810d4-d6ed-411d-8c50-f8a4166ff564"
      },
      "source": [
        "epoch = range(0,100)\n",
        "plt.plot(epoch, vanila_loss, 'g', label='Loss with Vanilla update of weights')\n",
        "plt.xlabel('Epochs')\n",
        "plt.ylabel('Loss')\n",
        "plt.title('Epoch v/s Loss')\n",
        "plt.legend()\n",
        "plt.show()"
      ],
      "execution_count": null,
      "outputs": [
        {
          "output_type": "display_data",
          "data": {
            "image/png": "[encoded data removed]",
            "text/plain": [
              "<Figure size 432x288 with 1 Axes>"
            ]
          },
          "metadata": {
            "tags": [],
            "needs_background": "light"
          }
        }
      ]
    },
    {
      "cell_type": "markdown",
      "metadata": {
        "id": "cv_hZFWalS2z",
        "colab_type": "text"
      },
      "source": [
        "###<font color='blue'>Algorithm with Momentum update of weights</font>"
      ]
    },
    {
      "cell_type": "code",
      "metadata": {
        "id": "uucCdyQrGhZt",
        "colab_type": "code",
        "colab": {
          "base_uri": "https://localhost:8080/",
          "height": 1000
        },
        "outputId": "e35a3be1-d138-4abe-e9ce-11804495a826"
      },
      "source": [
        "m = np.zeros(9)\n",
        "v = np.zeros(9)\n",
        "epochs =100\n",
        "learning_rate = 0.01\n",
        "Moment_loss =[]\n",
        "for epoch in range(epochs):\n",
        "  loss=0\n",
        "  for i in range(0,506):\n",
        "    #using the functions forward_propagation() and backword_propagation() compute the gradients of weights\n",
        "    #update the weigts with help of gradients  ex: w1 = w1-learning_rate*dw1\n",
        "    l = forward_propagation(X[i],y[i],W1)\n",
        "    loss+= l['loss']\n",
        "    #loss.append(l['loss'])\n",
        "    dw = backward_propagation(X[i],W1,l)\n",
        "    key_l = list(dw.keys())\n",
        "    key_l.reverse()\n",
        "    #print(type(key_l))\n",
        "    #print(key_l)\n",
        "    for k in range(0,9):\n",
        "      #W[i] = W[i]- learning_rate * dw[key_l[i]]\n",
        "      v[k]= (m[k] * v[k]) - (learning_rate * dw[key_l[k]])\n",
        "      W1[k] += v[k]\n",
        "  Moment_loss.append(loss)\n",
        "  print(epoch, loss)"
      ],
      "execution_count": null,
      "outputs": [
        {
          "output_type": "stream",
          "text": [
            "0 76.03668610415917\n",
            "1 14.404543370710417\n",
            "2 15.057661855320045\n",
            "3 15.101913622431498\n",
            "4 15.100266145916871\n",
            "5 15.093611441111282\n",
            "6 15.083791670388267\n",
            "7 15.070502914312291\n",
            "8 15.053332204378055\n",
            "9 15.031869843053933\n",
            "10 15.005717292123332\n",
            "11 14.974489492138183\n",
            "12 14.937816955248243\n",
            "13 14.895347899853185\n",
            "14 14.84675041897089\n",
            "15 14.791714657791955\n",
            "16 14.729954973756229\n",
            "17 14.661212051363313\n",
            "18 14.585254943118551\n",
            "19 14.50188300749504\n",
            "20 14.410927714574806\n",
            "21 14.31225429011882\n",
            "22 14.205763169214908\n",
            "23 14.091391231349451\n",
            "24 13.969112789747212\n",
            "25 13.838940309097781\n",
            "26 13.700924827329139\n",
            "27 13.55515605888043\n",
            "28 13.401762158942262\n",
            "29 13.2409091303695\n",
            "30 13.072799857412287\n",
            "31 12.897672753057018\n",
            "32 12.715800009646516\n",
            "33 12.527485445581423\n",
            "34 12.333061944378027\n",
            "35 12.13288848626234\n",
            "36 11.92734677697858\n",
            "37 11.716837483783339\n",
            "38 11.50177609496484\n",
            "39 11.282588427023333\n",
            "40 11.059705813328538\n",
            "41 10.833560020201821\n",
            "42 10.604577951664501\n",
            "43 10.373176223413134\n",
            "44 10.139755710940891\n",
            "45 9.90469620722849\n",
            "46 9.668351363097257\n",
            "47 9.431044128708672\n",
            "48 9.19306296720902\n",
            "49 8.954659168298395\n",
            "50 8.716045643890622\n",
            "51 8.477397627837385\n",
            "52 8.238855707895777\n",
            "53 8.00053156525406\n",
            "54 7.762516656868933\n",
            "55 7.524893826598267\n",
            "56 7.287751470398466\n",
            "57 7.051199441103917\n",
            "58 6.815385434432074\n",
            "59 6.580510257948365\n",
            "60 6.346840258567906\n",
            "61 6.114715338427298\n",
            "62 5.884551412585275\n",
            "63 5.656836766859973\n",
            "64 5.432122435075259\n",
            "65 5.211007323764755\n",
            "66 4.994119306818103\n",
            "67 4.782093865488645\n",
            "68 4.575552037964743\n",
            "69 4.37507943635908\n",
            "70 4.181207868111653\n",
            "71 3.994400687885709\n",
            "72 3.815042484330131\n",
            "73 3.6434331837116565\n",
            "74 3.4797862276995306\n",
            "75 3.3242302089992712\n",
            "76 3.176813227918498\n",
            "77 3.0375092313209975\n",
            "78 2.9062256665660335\n",
            "79 2.7828118866327896\n",
            "80 2.667067852091953\n",
            "81 2.558752777470281\n",
            "82 2.4575934592745377\n",
            "83 2.3632921003169223\n",
            "84 2.2755335112835193\n",
            "85 2.193991627098313\n",
            "86 2.1183353237868983\n",
            "87 2.0482335625106765\n",
            "88 1.983359922846208\n",
            "89 1.9233966194683114\n",
            "90 1.8680381282784708\n",
            "91 1.8169945840581234\n",
            "92 1.7699951581211246\n",
            "93 1.7267916903670681\n",
            "94 1.6871629497634615\n",
            "95 1.6509200534119537\n",
            "96 1.6179138250387886\n",
            "97 1.588045284594539\n",
            "98 1.5612811481907012\n",
            "99 1.5376773951900098\n"
          ],
          "name": "stdout"
        }
      ]
    },
    {
      "cell_type": "markdown",
      "metadata": {
        "id": "Ow20azfKlVhn",
        "colab_type": "text"
      },
      "source": [
        "<font color='blue'>Plot between epochs and loss</font>"
      ]
    },
    {
      "cell_type": "code",
      "metadata": {
        "id": "u-m90Sq_Ghce",
        "colab_type": "code",
        "colab": {
          "base_uri": "https://localhost:8080/",
          "height": 295
        },
        "outputId": "a842665e-dc03-482a-ba51-86d2df99f616"
      },
      "source": [
        "epoch = range(0,100)\n",
        "plt.plot(epoch, Moment_loss, 'g', label='Loss with Momentum update of weights')\n",
        "plt.xlabel('Epochs')\n",
        "plt.ylabel('Loss')\n",
        "plt.title('Epoch v/s Loss')\n",
        "plt.legend()\n",
        "plt.show()"
      ],
      "execution_count": null,
      "outputs": [
        {
          "output_type": "display_data",
          "data": {
            "image/png": "[encoded data removed]",
            "text/plain": [
              "<Figure size 432x288 with 1 Axes>"
            ]
          },
          "metadata": {
            "tags": [],
            "needs_background": "light"
          }
        }
      ]
    },
    {
      "cell_type": "markdown",
      "metadata": {
        "id": "V4RWWrZ7lWap",
        "colab_type": "text"
      },
      "source": [
        "###<font color='blue'>Algorithm with Adam update of weights</font>"
      ]
    },
    {
      "cell_type": "code",
      "metadata": {
        "id": "z3Nuk6_dN-rN",
        "colab_type": "code",
        "colab": {
          "base_uri": "https://localhost:8080/",
          "height": 1000
        },
        "outputId": "4d35ccfe-ff3f-45ce-b5f6-d33e1649c38d"
      },
      "source": [
        "m = np.zeros(9)\n",
        "v = np.zeros(9)\n",
        "beta_1 = .9\n",
        "beta_2 = .99\n",
        "epsilon =0.0001\n",
        "epochs =100\n",
        "learning_rate = .01\n",
        "Adam_loss =[]\n",
        "for epoch in range(epochs):\n",
        "  loss=0\n",
        "  for i in range(0,506):\n",
        "    #using the functions forward_propagation() and backword_propagation() compute the gradients of weights\n",
        "    #update the weigts with help of gradients  ex: w1 = w1-learning_rate*dw1\n",
        "    l = forward_propagation(X[i],y[i],W1)\n",
        "    loss+= l['loss']\n",
        "    #print(loss)\n",
        "    dw = backward_propagation(X[i],W1,l)\n",
        "    for k in range(9):\n",
        "      m[k] = beta_1 * m[k] + (1-beta_1)* dw[key_l[k]]\n",
        "      #v[k] = beta_2 * v[k] + (1-beta_2)* dw[key_l[k]]\n",
        "      v[k] = beta_2 * v[k] + (1-beta_2)* dw[key_l[k]] * dw[key_l[k]]\n",
        "      #m_hat =  m[k] / (1-beta_1**(k+1))\n",
        "      #v_hat =  v[k] / (1-beta_2**(k+1))\n",
        "      #print(m[k], v[k])\n",
        "      W1[k] = W1[k] - ((learning_rate* m[k])/(np.sqrt(v[k]) + epsilon))\n",
        "      #W[k]-= learning_rate* m_hat/(np.sqrt(v_hat) + epsilon)\n",
        "  Adam_loss.append(loss)   \n",
        "  print(epoch, loss)\n"
      ],
      "execution_count": null,
      "outputs": [
        {
          "output_type": "stream",
          "text": [
            "0 19.910027630154918\n",
            "1 0.09063580657144188\n",
            "2 0.028844609048480133\n",
            "3 0.004652866193231115\n",
            "4 0.024787171117877645\n",
            "5 0.012250870566632557\n",
            "6 0.012501302304277973\n",
            "7 0.020544937619641743\n",
            "8 0.0076772888052514705\n",
            "9 0.02125453817709259\n",
            "10 0.009930934895004346\n",
            "11 0.0021115902696317496\n",
            "12 0.013386233041463847\n",
            "13 0.014323176007637108\n",
            "14 0.015284965270701185\n",
            "15 0.003346498325689266\n",
            "16 0.005374320248876973\n",
            "17 0.01590106342013898\n",
            "18 0.008923591079097772\n",
            "19 0.009115743778272139\n",
            "20 0.0018051760990339574\n",
            "21 0.00214435414803324\n",
            "22 0.006527751140683513\n",
            "23 0.0021900648665815125\n",
            "24 0.005727727280151287\n",
            "25 0.021009295358870684\n",
            "26 0.012005007804141125\n",
            "27 0.012787445813314242\n",
            "28 0.01916981182699033\n",
            "29 0.008853403132268506\n",
            "30 0.01363019495860745\n",
            "31 0.0023073738919109866\n",
            "32 0.003827234728256789\n",
            "33 0.017301408257678216\n",
            "34 0.0037334929743797563\n",
            "35 0.001081361790830154\n",
            "36 0.011440743395112682\n",
            "37 0.00789372790460075\n",
            "38 0.0049186619845685885\n",
            "39 0.017275735926690124\n",
            "40 0.012387022546004666\n",
            "41 0.005723524389735547\n",
            "42 0.013756329123068777\n",
            "43 0.02070495999464612\n",
            "44 0.009887843191557577\n",
            "45 0.002570233212527182\n",
            "46 0.0026981116037843983\n",
            "47 0.0026473192445118595\n",
            "48 0.0015337333615338925\n",
            "49 0.005290678784633831\n",
            "50 0.018338050216690317\n",
            "51 0.012386908047127514\n",
            "52 0.007515036698660338\n",
            "53 0.0044827090703638585\n",
            "54 0.014119478940844081\n",
            "55 0.014533749471123599\n",
            "56 0.012289731372617952\n",
            "57 0.0083002689337173\n",
            "58 0.0033545046230467313\n",
            "59 0.010653234638357264\n",
            "60 0.011819022158219613\n",
            "61 0.009529262741161204\n",
            "62 0.010341179270584403\n",
            "63 0.002932583822067686\n",
            "64 0.018059431613111927\n",
            "65 0.004853425474675529\n",
            "66 0.014437477397357084\n",
            "67 0.012667232676744753\n",
            "68 0.0022305535919278367\n",
            "69 0.003146231637352765\n",
            "70 0.013059967008108096\n",
            "71 0.016528668300641133\n",
            "72 0.003827241997779477\n",
            "73 0.0034140066635184978\n",
            "74 0.002901753944336822\n",
            "75 0.013342198257150252\n",
            "76 0.02141889097105839\n",
            "77 0.012191745738782952\n",
            "78 0.011607365724703101\n",
            "79 0.013391218129166101\n",
            "80 0.0173131157372679\n",
            "81 0.0035947590378899497\n",
            "82 0.006479396169049214\n",
            "83 0.0036724404608580747\n",
            "84 0.010559528699316914\n",
            "85 0.007264913317716414\n",
            "86 0.013086748751517401\n",
            "87 0.006550681421627108\n",
            "88 0.012498111906843521\n",
            "89 0.009204326379203969\n",
            "90 0.0021965219562009634\n",
            "91 0.0031951942559884537\n",
            "92 0.0038642669785166873\n",
            "93 0.009863098290191052\n",
            "94 0.018652301774156325\n",
            "95 0.01089440923010282\n",
            "96 0.005106634006597391\n",
            "97 0.01379249045100845\n",
            "98 0.01629769967341454\n",
            "99 0.0032750003722725757\n"
          ],
          "name": "stdout"
        }
      ]
    },
    {
      "cell_type": "markdown",
      "metadata": {
        "id": "MMy0nBw-lXml",
        "colab_type": "text"
      },
      "source": [
        "<font color='blue'>Plot between epochs and loss</font>"
      ]
    },
    {
      "cell_type": "code",
      "metadata": {
        "id": "aiFRk_uFlm2V",
        "colab_type": "code",
        "colab": {
          "base_uri": "https://localhost:8080/",
          "height": 295
        },
        "outputId": "05565340-6e0f-4022-ac86-ccc039bc163f"
      },
      "source": [
        "epoch = range(0,100)\n",
        "plt.plot(epoch, Adam_loss, 'g', label='Loss with Adam update of weights')\n",
        "plt.xlabel('Epochs')\n",
        "plt.ylabel('Loss')\n",
        "plt.title('Epoch v/s Loss')\n",
        "plt.legend()\n",
        "plt.show()"
      ],
      "execution_count": null,
      "outputs": [
        {
          "output_type": "display_data",
          "data": {
            "image/png": "[encoded data removed]",
            "text/plain": [
              "<Figure size 432x288 with 1 Axes>"
            ]
          },
          "metadata": {
            "tags": [],
            "needs_background": "light"
          }
        }
      ]
    },
    {
      "cell_type": "markdown",
      "metadata": {
        "id": "7627cy8YlnYO",
        "colab_type": "text"
      },
      "source": [
        "<font color='blue'>Comparision plot between epochs and loss with different optimizers</font>"
      ]
    },
    {
      "cell_type": "code",
      "metadata": {
        "id": "scleSfIXl_bC",
        "colab_type": "code",
        "colab": {
          "base_uri": "https://localhost:8080/",
          "height": 295
        },
        "outputId": "d01268d7-3e1c-4317-da09-7acf3cf9b2af"
      },
      "source": [
        "epoch = range(0,100)\n",
        "plt.plot(epoch, vanila_loss, 'g', label='Loss with Vanilla update of weights')\n",
        "plt.plot(epoch, Moment_loss, 'b', label='Loss with Momentum update of weights')\n",
        "plt.plot(epoch, Adam_loss, 'r', label='Loss with Adam update of weights')\n",
        "plt.xlabel('Epochs')\n",
        "plt.ylabel('Loss')\n",
        "plt.title('Epoch v/s Loss')\n",
        "plt.legend()\n",
        "plt.show()"
      ],
      "execution_count": null,
      "outputs": [
        {
          "output_type": "display_data",
          "data": {
            "image/png": "[encoded data removed]",
            "text/plain": [
              "<Figure size 432x288 with 1 Axes>"
            ]
          },
          "metadata": {
            "tags": [],
            "needs_background": "light"
          }
        }
      ]
    },
    {
      "cell_type": "markdown",
      "metadata": {
        "id": "9wBQfGxCaxNQ",
        "colab_type": "text"
      },
      "source": [
        "# Observations"
      ]
    },
    {
      "cell_type": "markdown",
      "metadata": {
        "id": "dDr9Gubva8Kz",
        "colab_type": "text"
      },
      "source": [
        "### 1. Vanilla update- Loss is decresing after every epoch. From epoch-1 to epoch -2 loss is decreasing significantly. After it decresing bit slowly.\n",
        "\n",
        "### 2 Momentum update -Loss is decresing after every epoch. From epoch-1 to epoch -2 loss is decreasing significantly. After it decresing bit slowly.It is almost same as Vanilla update\n",
        "\n",
        "### 3 Adam update :Loss is decreasing very sharply and sigfincatly better than Momentum and Vanilla update. Loss is minimum in Adam. So Adam optimization is best optimiser."
      ]
    }
  ]
}