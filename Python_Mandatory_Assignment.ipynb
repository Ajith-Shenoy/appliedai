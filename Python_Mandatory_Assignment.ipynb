{
  "nbformat": 4,
  "nbformat_minor": 0,
  "metadata": {
    "kernelspec": {
      "display_name": "Python 3",
      "language": "python",
      "name": "python3"
    },
    "language_info": {
      "codemirror_mode": {
        "name": "ipython",
        "version": 3
      },
      "file_extension": ".py",
      "mimetype": "text/x-python",
      "name": "python",
      "nbconvert_exporter": "python",
      "pygments_lexer": "ipython3",
      "version": "3.6.6"
    },
    "colab": {
      "name": "Python_Mandatory_Assignment.ipynb",
      "provenance": [],
      "collapsed_sections": [],
      "include_colab_link": true
    }
  },
  "cells": [
    {
      "cell_type": "markdown",
      "metadata": {
        "id": "view-in-github",
        "colab_type": "text"
      },
      "source": [
        "<a href=\"https://colab.research.google.com/github/VishnuGupta5883/appliedai/blob/master/Python_Mandatory_Assignment.ipynb\" target=\"_parent\"><img src=\"https://colab.research.google.com/assets/colab-badge.svg\" alt=\"Open In Colab\"/></a>"
      ]
    },
    {
      "cell_type": "markdown",
      "metadata": {
        "id": "vMoNAbSssqOD",
        "colab_type": "text"
      },
      "source": [
        "<h1>Python: without numpy or sklearn </h1>"
      ]
    },
    {
      "cell_type": "markdown",
      "metadata": {
        "id": "gHoREhqfsqOI",
        "colab_type": "text"
      },
      "source": [
        "<h3> Q1: Given two matrices please print the product of those two matrices </h3>\n",
        "<pre>\n",
        "\n",
        "Ex 1: A   = [[1 3 4]\n",
        "             [2 5 7]\n",
        "             [5 9 6]]\n",
        "      B   = [[1 0 0]\n",
        "             [0 1 0]\n",
        "             [0 0 1]]\n",
        "      A*B = [[1 3 4]\n",
        "             [2 5 7]\n",
        "             [5 9 6]]\n",
        "\n",
        "     \n",
        "Ex 2: A   = [[1 2]\n",
        "             [3 4]]\n",
        "      B   = [[1 2 3 4 5]\n",
        "             [5 6 7 8 9]]\n",
        "      A*B = [[11 14 17 20 23]\n",
        "             [18 24 30 36 42]]\n",
        "             \n",
        "Ex 3: A   = [[1 2]\n",
        "             [3 4]]\n",
        "      B   = [[1 4]\n",
        "             [5 6]\n",
        "             [7 8]\n",
        "             [9 6]]\n",
        "      A*B =Not possible\n",
        "</pre>"
      ]
    },
    {
      "cell_type": "code",
      "metadata": {
        "id": "vOxPQ-ImsqOK",
        "colab_type": "code",
        "outputId": "f5551f5f-44bc-405b-d5b6-49b163387004",
        "colab": {
          "base_uri": "https://localhost:8080/",
          "height": 35
        }
      },
      "source": [
        "# write your python code here\n",
        "# you can take the above example as sample input for your program to test\n",
        "# it should work for any general input try not to hard code for only given input examples\n",
        "\n",
        "\n",
        "# you can free to change all these codes/structure\n",
        "# here A and B are list of lists\n",
        "\n",
        "\n",
        "def result_mat(A,B):\n",
        "  result =[]\n",
        "  for i in range(len(A)):\n",
        "    rowlist =[]\n",
        "    for j in range(len(B[0])):\n",
        "      rowlist.append(0)\n",
        "    result.append(rowlist)\n",
        "  return result\n",
        "\n",
        "def matrix_mul(A, B):\n",
        "    # write your code\n",
        "    if len(A[0])!=len(B):\n",
        "      print(\"Multiplication not possible\")\n",
        "    else:\n",
        "      res = result_mat(A,B)\n",
        "      for i in range(len(A)):\n",
        "        for j in range(len(B[0])):\n",
        "           \n",
        "          for k in range(len(B)):\n",
        "            res[i][j] += A[i][k] * B[k][j]\n",
        "      print(res)\n",
        "    \n",
        "matrix_mul(A, B)"
      ],
      "execution_count": 0,
      "outputs": [
        {
          "output_type": "stream",
          "text": [
            "Multiplication not possible\n"
          ],
          "name": "stdout"
        }
      ]
    },
    {
      "cell_type": "markdown",
      "metadata": {
        "id": "zJY8tdH6sqOU",
        "colab_type": "text"
      },
      "source": [
        "<h3> Q2: Select a number randomly with probability proportional to its magnitude from the given array of n elements</h3>\n",
        "\n",
        "consider an experiment, selecting an element from the list A randomly with probability proportional to its magnitude.\n",
        "assume we are doing the same experiment for 100 times with replacement, in each experiment you will print a number that is selected randomly from A.\n",
        "\n",
        "<pre>\n",
        "Ex 1: A = [0 5 27 6 13 28 100 45 10 79]\n",
        "let f(x) denote the number of times x getting selected in 100 experiments.\n",
        "f(100) > f(79) > f(45) > f(28) > f(27) > f(13) > f(10) > f(6) > f(5) > f(0)\n",
        "</pre>"
      ]
    },
    {
      "cell_type": "code",
      "metadata": {
        "id": "VKd0sImPsqOW",
        "colab_type": "code",
        "outputId": "e70ee6c2-cebc-42cb-a7d2-26467b97f3eb",
        "colab": {
          "base_uri": "https://localhost:8080/",
          "height": 1000
        }
      },
      "source": [
        "from random import uniform\n",
        "# write your python code here\n",
        "# you can take the above example as sample input for your program to test\n",
        "# it should work for any general input try not to hard code for only given input examples\n",
        "\n",
        "A = [0, 5, 27, 6, 13, 28, 100, 45, 10, 79]\n",
        "\n",
        "# you can free to change all these codes/structure\n",
        "def pick_a_number_from_list(A):\n",
        "    # your code here for picking an element from with the probability propotional to its magnitude\n",
        "    #for i in A:\n",
        "    #  print(i)\n",
        "    max_n = max(A)\n",
        "    min_n = min(A)\n",
        "    x = uniform(min_n, max_n)  \n",
        "    return x\n",
        "\n",
        "def sampling_based_on_magnitued():\n",
        "    for i in range(1,100):\n",
        "        number = pick_a_number_from_list(A)\n",
        "        print(number)\n",
        "\n",
        "sampling_based_on_magnitued()"
      ],
      "execution_count": 0,
      "outputs": [
        {
          "output_type": "stream",
          "text": [
            "16.952460724848063\n",
            "62.89323627713157\n",
            "73.04613243084258\n",
            "82.04338154779954\n",
            "62.04085259999677\n",
            "66.63588524222301\n",
            "13.554824293061785\n",
            "97.25018648917202\n",
            "98.14639222886532\n",
            "82.50471658673527\n",
            "86.00757094779843\n",
            "55.602115560624256\n",
            "87.8442015808401\n",
            "63.64247887258912\n",
            "84.04311026535129\n",
            "95.56503580280781\n",
            "39.75092505205009\n",
            "89.60963228552869\n",
            "77.70202385391049\n",
            "87.44443799319566\n",
            "26.85040441457458\n",
            "41.73210960741851\n",
            "98.2461272579372\n",
            "45.578513223697406\n",
            "71.65377108174054\n",
            "66.30029286484312\n",
            "0.9410377009968163\n",
            "30.078071277048647\n",
            "26.420935122057777\n",
            "50.071576576841125\n",
            "26.380377231736485\n",
            "42.11587629279162\n",
            "57.97222599386648\n",
            "16.906264178956686\n",
            "52.34165649059894\n",
            "57.218096547651356\n",
            "76.49215701565092\n",
            "4.693852501037132\n",
            "55.593532328794204\n",
            "83.8982517716374\n",
            "96.61418841404104\n",
            "38.05059181578761\n",
            "86.24084189050659\n",
            "53.57149858481725\n",
            "26.535261568495095\n",
            "13.361519236863295\n",
            "56.642167984640935\n",
            "97.3490217036097\n",
            "26.118936348789703\n",
            "3.81605922113607\n",
            "70.19605698668923\n",
            "29.93043938758324\n",
            "14.059264182219511\n",
            "95.75890016723974\n",
            "99.15935744695216\n",
            "42.68619097757879\n",
            "86.10003295309906\n",
            "24.85561626753038\n",
            "93.57205172298376\n",
            "40.99642894125909\n",
            "95.43115959035957\n",
            "76.63566948779862\n",
            "95.20816362608178\n",
            "0.8272588816580551\n",
            "66.65906616091304\n",
            "56.19815441295762\n",
            "87.71187580358483\n",
            "25.854117676952725\n",
            "69.03166634315387\n",
            "39.44084765709711\n",
            "47.64200169956907\n",
            "38.05873017850783\n",
            "50.955897737699964\n",
            "89.83830419172943\n",
            "60.17216871955831\n",
            "71.67106340448731\n",
            "17.383214531613177\n",
            "64.32285219775375\n",
            "95.91304337174982\n",
            "12.356403101824021\n",
            "15.42932429229744\n",
            "2.5807810713933677\n",
            "40.090173671471916\n",
            "52.58965238022149\n",
            "88.32805036106033\n",
            "75.3627482491121\n",
            "57.55954453964487\n",
            "77.41213624740766\n",
            "35.90208325602428\n",
            "0.4830551105097225\n",
            "6.633736489704445\n",
            "65.04466750531603\n",
            "63.86682614665611\n",
            "85.99360859171074\n",
            "90.33784486582513\n",
            "56.35583254439018\n",
            "20.036555825169987\n",
            "56.76557900043054\n",
            "97.09919865851371\n"
          ],
          "name": "stdout"
        }
      ]
    },
    {
      "cell_type": "markdown",
      "metadata": {
        "id": "hQqjwNdxsqOb",
        "colab_type": "text"
      },
      "source": [
        "<h3> Q3: Replace the digits in the string with #</h3>\n",
        "\n",
        "Consider a string that will have digits in that, we need to remove all the characters which are not digits and replace the digits with #\n",
        "<pre>\n",
        "Ex 1: A = 234                Output: ###\n",
        "Ex 2: A = a2b3c4             Output: ###\n",
        "Ex 3: A = abc                Output:   (empty string)\n",
        "Ex 5: A = #2a$#b%c%561#      Output: ####\n",
        "</pre>"
      ]
    },
    {
      "cell_type": "code",
      "metadata": {
        "id": "DcsuTZIKsqOc",
        "colab_type": "code",
        "outputId": "f03e02bb-8396-49f2-ddcd-be871958dc39",
        "colab": {
          "base_uri": "https://localhost:8080/",
          "height": 35
        }
      },
      "source": [
        "import re\n",
        "# write your python code here\n",
        "# you can take the above example as sample input for your program to test\n",
        "# it should work for any general input try not to hard code for only given input examples\n",
        "\n",
        "# you can free to change all these codes/structure\n",
        "# String: it will be the input to your program\n",
        "String = 'a2b3c4'\n",
        "def replace_digits(String):\n",
        "    result = re.sub(\"[a-z $%#]\", '', String)\n",
        "    result = re.sub(\"[0-9]\", '#',result)   \n",
        "    return result # modified string which is after replacing the # with digits\n",
        "\n",
        "replace_digits(String)"
      ],
      "execution_count": 0,
      "outputs": [
        {
          "output_type": "execute_result",
          "data": {
            "text/plain": [
              "'###'"
            ]
          },
          "metadata": {
            "tags": []
          },
          "execution_count": 34
        }
      ]
    },
    {
      "cell_type": "markdown",
      "metadata": {
        "id": "BbrG23RZsqOi",
        "colab_type": "text"
      },
      "source": [
        "<h3> Q4: Students marks dashboard</h3>\n",
        "\n",
        "Consider the marks list of class students given in two lists <br>\n",
        "Students = ['student1','student2','student3','student4','student5','student6','student7','student8','student9','student10'] <br>\n",
        "Marks = [45, 78, 12, 14, 48, 43, 45, 98, 35, 80] <br>\n",
        "from the above two lists the Student[0] got Marks[0],  Student[1] got Marks[1] and so on. <br><br>\n",
        "\n",
        "Your task is to print the name of students\n",
        "\n",
        "<strong>a. Who got top 5 ranks, in the descending order of marks</strong> <br>\n",
        "<strong>b. Who got least 5 ranks, in the increasing order of marks</strong><br>\n",
        "<strong>d. Who got marks between  &gt;25th percentile &lt;75th percentile, in the increasing order of marks.</strong>\n",
        "\n",
        "<pre>\n",
        "Ex 1: \n",
        "Students=['student1','student2','student3','student4','student5','student6','student7','student8','student9','student10'] \n",
        "Marks = [45, 78, 12, 14, 48, 43, 47, 98, 35, 80]\n",
        "\n",
        "a. \n",
        "student8  98\n",
        "student10 80\n",
        "student2  78\n",
        "student5  48\n",
        "student7  47\n",
        "\n",
        "b.\n",
        "student3 12\n",
        "student4 14\n",
        "student9 35\n",
        "student6 43\n",
        "student1 45\n",
        "\n",
        "c.\n",
        "student9 35\n",
        "student6 43\n",
        "student1 45\n",
        "student7 47\n",
        "student5 48\n",
        "</pre>"
      ]
    },
    {
      "cell_type": "code",
      "metadata": {
        "id": "fPgSZqCXsqOk",
        "colab_type": "code",
        "outputId": "8adbf7c4-24fe-4ce6-a310-84e0cfe4f140",
        "colab": {
          "base_uri": "https://localhost:8080/",
          "height": 52
        }
      },
      "source": [
        "# write your python code here\n",
        "# you can take the above example as sample input for your program to test\n",
        "# it should work for any general input try not to hard code for only given input examples\n",
        "students=['student1','student2','student3','student4','student5','student6','student7','student8','student9','student10'] \n",
        "marks = [45, 78, 12, 14, 48, 43, 47, 98, 35, 80]\n",
        "# you can free to change all these codes/structure\n",
        "def display_dash_board(students, marks):\n",
        "  dict={}\n",
        "  for i in students:\n",
        "    for j in Marks:\n",
        "      dict[i]=j\n",
        "      Marks.remove(j)\n",
        "      break\n",
        "    \n",
        "    #https://stackoverflow.com/questions/613183/how-do-i-sort-a-dictionary-by-value\n",
        "    # write code for computing top top 5 students\n",
        "  top_5_students = sorted(dict.items(), key=lambda x: x[1], reverse=True)\n",
        "  top_5_students = top_5_students[:5]\n",
        "    # write code for computing top least 5 students\n",
        "  least_5_students = sorted(dict.items(), key=lambda x: x[1], reverse=False)\n",
        "  least_5_students =least_5_students[:5]\n",
        "    # write code for computing students having >25th percentile <75th percentile, in the increasing order of marks\n",
        "  a = {key:value for key,value in dict.items() if value > 25 and value < 75 }\n",
        "  students_within_25_and_75 = sorted(a.items(), key=lambda x: x[1], reverse=False)\n",
        "  print(top_5_students, least_5_students, students_within_25_and_75)\n",
        "    \n",
        "  return top_5_students, least_5_students, students_within_25_and_75\n",
        "\n",
        "top_5_students, least_5_students, students_within_25_and_75 = display_dash_board(students, marks)\n",
        "#print(top_5_students, least_5_students, students_within_25_and_75)\n",
        "print(students_within_25_and_75)"
      ],
      "execution_count": 0,
      "outputs": [
        {
          "output_type": "stream",
          "text": [
            "[] [] []\n",
            "[]\n"
          ],
          "name": "stdout"
        }
      ]
    },
    {
      "cell_type": "code",
      "metadata": {
        "id": "3s7Dj5UV-yQd",
        "colab_type": "code",
        "outputId": "176d2a30-12ee-47c0-d2d0-81341eeccd0e",
        "colab": {
          "base_uri": "https://localhost:8080/",
          "height": 55
        }
      },
      "source": [
        "Students=['student1','student2','student3','student4','student5','student6','student7','student8','student9','student10'] \n",
        "Marks = [45, 78, 12, 14, 48, 43, 47, 98, 35, 80]\n",
        "\n",
        "dict={}\n",
        "\n",
        "for i in Students:\n",
        "  for j in Marks:\n",
        "    dict[i]=j\n",
        "    Marks.remove(j)\n",
        "    break\n",
        "#print(dict)\n",
        "\n",
        "top_5_students = sorted(dict.items(), key=lambda x: x[1], reverse=True)\n",
        "top_5_students = top_5_students[:5]\n",
        "    # write code for computing top least 5 students\n",
        "least_5_students = sorted(dict.items(), key=lambda x: x[1], reverse=False)\n",
        "least_5_students =least_5_students[:5]\n",
        "a =  {key:value for key,value in dict.items() if value > 25 and value < 75 }\n",
        "students_within_25_and_75 = sorted(a.items(), key=lambda x: x[1], reverse=False)\n",
        "\n",
        "print(top_5_students,least_5_students,students_within_25_and_75)\n",
        "\n",
        "\n"
      ],
      "execution_count": 0,
      "outputs": [
        {
          "output_type": "stream",
          "text": [
            "[('student8', 98), ('student10', 80), ('student2', 78), ('student5', 48), ('student7', 47)] [('student3', 12), ('student4', 14), ('student9', 35), ('student6', 43), ('student1', 45)] [('student9', 35), ('student6', 43), ('student1', 45), ('student7', 47), ('student5', 48)]\n"
          ],
          "name": "stdout"
        }
      ]
    },
    {
      "cell_type": "markdown",
      "metadata": {
        "id": "YUVLiW1dZYXT",
        "colab_type": "text"
      },
      "source": [
        ""
      ]
    },
    {
      "cell_type": "markdown",
      "metadata": {
        "id": "3FNhB-zssqOn",
        "colab_type": "text"
      },
      "source": [
        "<h3> Q5: Find the closest points</h3>\n",
        "\n",
        "Consider you are given n data points in the form of list of tuples like S=[(x1,y1),(x2,y2),(x3,y3),(x4,y4),(x5,y5),..,(xn,yn)] and a point P=(p,q) <br> your task is to find 5 closest points(based on cosine distance) in S from P\n",
        "\n",
        "<br>Cosine distance between two points (x,y) and (p,q) is defined as $cos^{-1}(\\frac{(x\\cdot p+y\\cdot q)}{\\sqrt(x^2+y^2)\\cdot\\sqrt(p^2+q^2)})$\n",
        "<pre>\n",
        "Ex:\n",
        "\n",
        "S= [(1,2),(3,4),(-1,1),(6,-7),(0, 6),(-5,-8),(-1,-1)(6,0),(1,-1)]\n",
        "P= (3,-4)\n",
        "<img src='https://i.imgur.com/vIFPOcG.jpg', width=300>\n",
        "Output:\n",
        "(6,-7)\n",
        "(1,-1)\n",
        "(6,0)\n",
        "(-5,-8)\n",
        "(-1,-1)\n",
        "</pre>"
      ]
    },
    {
      "cell_type": "code",
      "metadata": {
        "id": "49d9k6fLsqOr",
        "colab_type": "code",
        "colab": {
          "base_uri": "https://localhost:8080/",
          "height": 72
        },
        "outputId": "d85023e2-bab0-4836-d5a5-28be0017336a"
      },
      "source": [
        "import math\n",
        "import numpy as np\n",
        "from numpy.linalg import norm\n",
        "\n",
        "# write your python code here\n",
        "# you can take the above example as sample input for your program to test\n",
        "# it should work for any general input try not to hard code for only given input examples\n",
        "# you can free to change all these codes/structure\n",
        "\n",
        "\n",
        "# here S is list of tuples and P is a tuple ot len=2\n",
        "def closest_points_to_p(S, P):\n",
        "  dict ={}; closest_points_to_p=[];\n",
        "  for i in range(len(S)):\n",
        "    cos_d = math.cos(np.dot(S[i],P)/(norm(S[i])*norm(P)))\n",
        "    #print(cos_d,S[i])\n",
        "    dict[S[i]] = cos_d\n",
        "  #print(dict)\n",
        "  dict = sorted(dict.items(), key=lambda x: x[1], reverse=False)\n",
        "  dict =dict[:5]\n",
        "  print(dict)\n",
        "  for i in dict:\n",
        "    closest_points_to_p.append(i[0])\n",
        "  return closest_points_to_p  # its list of tuples\n",
        "\n",
        "S= [(1,2),(3,4),(-1,1),(6,-7),(0, 6),(-5,-8),(-1,-1),(6,0),(1,-1)]\n",
        "P= (3,-4)\n",
        "points = closest_points_to_p(S, P)\n",
        "print(points) #print the returned values"
      ],
      "execution_count": 111,
      "outputs": [
        {
          "output_type": "stream",
          "text": [
            "[((6, -7), 0.5420849198071851), ((-1, 1), 0.5487320844930946), ((1, -1), 0.5487320844930946), ((0, 6), 0.6967067093471654), ((6, 0), 0.8253356149096783)]\n",
            "[(6, -7), (-1, 1), (1, -1), (0, 6), (6, 0)]\n"
          ],
          "name": "stdout"
        }
      ]
    },
    {
      "cell_type": "markdown",
      "metadata": {
        "id": "f_-ny1CbsqOz",
        "colab_type": "text"
      },
      "source": [
        "<h3> Q6: Find which line separates oranges and apples</h3>\n",
        "\n",
        "Consider you are given two set of data points in the form of list of tuples like \n",
        "<pre>\n",
        "Red =[(R11,R12),(R21,R22),(R31,R32),(R41,R42),(R51,R52),..,(Rn1,Rn2)]\n",
        "Blue=[(B11,B12),(B21,B22),(B31,B32),(B41,B42),(B51,B52),..,(Bm1,Bm2)]\n",
        "</pre>\n",
        "and set of line equations(in the string format, i.e list of strings)\n",
        "<pre>\n",
        "Lines = [a1x+b1y+c1,a2x+b2y+c2,a3x+b3y+c3,a4x+b4y+c4,..,K lines]\n",
        "Note: You need to do string parsing here and get the coefficients of x,y and intercept.\n",
        "</pre>\n",
        "Your task here is to print \"YES\"/\"NO\" for each line given. You should print YES, if all the red points are one side of the line and blue points are on other side of the line, otherwise you should print NO.\n",
        "<pre>\n",
        "Ex:\n",
        "Red= [(1,1),(2,1),(4,2),(2,4), (-1,4)]\n",
        "Blue= [(-2,-1),(-1,-2),(-3,-2),(-3,-1),(1,-3)]\n",
        "Lines=[\"1x+1y+0\",\"1x-1y+0\",\"1x+0y-3\",\"0x+1y-0.5\"]\n",
        "<img src='https://i.imgur.com/DoQf7mE.jpg' width=400>\n",
        "Output:\n",
        "YES\n",
        "NO\n",
        "NO\n",
        "YES\n",
        "</pre>"
      ]
    },
    {
      "cell_type": "code",
      "metadata": {
        "id": "wxZYxuuAsqO2",
        "colab_type": "code",
        "colab": {
          "base_uri": "https://localhost:8080/",
          "height": 156
        },
        "outputId": "45d55d66-19f7-403e-dac3-5e353f21edc8"
      },
      "source": [
        "import math\n",
        "from prettytable import PrettyTable\n",
        "import re\n",
        "# write your python code here\n",
        "# you can take the above example as sample input for your program to test\n",
        "# it should work for any general input try not to hard code for only given input strings\n",
        "\n",
        "\n",
        "# you can free to change all these codes/structure\n",
        "def i_am_the_one(Red,Blue,lines):\n",
        "  x = PrettyTable()\n",
        "  x.field_names = [\"Line\",\"Red Points\",\"Blue Points\",\"FINAL Result\"]\n",
        "\n",
        "  \n",
        "  line1 =[]\n",
        "  for i in lines:\n",
        "    z = re.findall(r'[\\d\\.\\-\\+]+', i)\n",
        "    line1.append(z)\n",
        "  #print(line1)\n",
        "\n",
        "  dicR ={}\n",
        "  dicB ={}\n",
        "  dicRF ={}\n",
        "  dicBF ={}\n",
        "  tuple1 =()\n",
        "  #for i in range(len(Red)):\n",
        "  for k in line1:\n",
        "    for j in Red:\n",
        "      a= (int(k[0]) * j[0]) + (int(k[1]) * j[1]) + (float(k[2]));\n",
        "      dicR[j] =a;       \n",
        "    #print(\"Red Points\",dicR)\n",
        "    for l in Blue:\n",
        "      b= (int(k[0]) * l[0]) + (int(k[1]) * l[1]) + (float(k[2]));\n",
        "      dicB[l] =b;\n",
        "    #print(\"Blue points\",dicB)\n",
        "    for key,value in dicR.items():\n",
        "      if value > 0.0:\n",
        "        dicRF[str(k)] ='YES'\n",
        "      else:\n",
        "        dicRF[str(k)] ='NO'\n",
        "    #print(\"Red points\",dicRF)\n",
        "    for key,value in dicB.items():\n",
        "      if value < 0.0:\n",
        "        dicBF[str(k)] ='YES'\n",
        "      else:\n",
        "        dicBF[str(k)] ='NO'\n",
        "  #print(\"Blue points\",dicBF)\n",
        "    if (dicRF[str(k)] ==dicBF[str(k)]) and dicRF[str(k)] =='YES':\n",
        "      x.add_row([str(k),dicRF[str(k)], dicBF[str(k)],\"YES\"])\n",
        "    else: \n",
        "      x.add_row([str(k),dicRF[str(k)], dicBF[str(k)],\"NO\"])\n",
        "#print(x)\n",
        "  return x\n",
        "\n",
        "Red= [(1,1),(2,1),(4,2),(2,4),(-1,4)]\n",
        "Blue= [(-2,-1),(-1,-2),(-3,-2),(-3,-1),(1,-3)]\n",
        "Lines=[\"1x+1y+0\",\"1x-1y+0\",\"1x+0y-3\",\"0x+1y-0.5\"]\n",
        "\n",
        "#for i in Lines:\n",
        "yes_or_no = i_am_the_one(Red, Blue, Lines)\n",
        "print(yes_or_no) # the returned value"
      ],
      "execution_count": 97,
      "outputs": [
        {
          "output_type": "stream",
          "text": [
            "+---------------------+------------+-------------+--------------+\n",
            "|         Line        | Red Points | Blue Points | FINAL Result |\n",
            "+---------------------+------------+-------------+--------------+\n",
            "|  ['1', '+1', '+0']  |    YES     |     YES     |     YES      |\n",
            "|  ['1', '-1', '+0']  |     NO     |      NO     |      NO      |\n",
            "|  ['1', '+0', '-3']  |     NO     |     YES     |      NO      |\n",
            "| ['0', '+1', '-0.5'] |    YES     |     YES     |     YES      |\n",
            "+---------------------+------------+-------------+--------------+\n"
          ],
          "name": "stdout"
        }
      ]
    },
    {
      "cell_type": "markdown",
      "metadata": {
        "id": "82-v5rgdsqO-",
        "colab_type": "text"
      },
      "source": [
        "<h3> Q7: Filling the missing values in the specified format</h3>\n",
        "\n",
        "You will be given a string with digits and '\\_'(missing value) symbols you have to replace the '\\_' symbols as explained \n",
        "\n",
        "<pre>\n",
        "Ex 1: _, _, _, 24 ==> 24/4, 24/4, 24/4, 24/4 i.e we. have distributed the 24 equally to all 4 places <br>\n",
        "Ex 2: 40, _, _, _, 60 ==> (60+40)/5,(60+40)/5,(60+40)/5,(60+40)/5,(60+40)/5 ==> 20, 20, 20, 20, 20 i.e. the sum of (60+40) is distributed qually to all 5 places<br>\n",
        "Ex 3: 80, _, _, _, _  ==> 80/5,80/5,80/5,80/5,80/5 ==> 16, 16, 16, 16, 16 i.e. the 80 is distributed qually to all 5 missing values that are right to it<br>\n",
        "Ex 4: _, _, 30, _, _, _, 50, _, _  \n",
        "==> we will fill the missing values from left to right \n",
        "    a. first we will distribute the 30 to left two missing values (10, 10, 10, _, _, _, 50, _, _)\n",
        "    b. now distribute the sum (10+50) missing values in between (10, 10, 12, 12, 12, 12, 12, _, _) \n",
        "    c. now we will distribute 12 to right side missing values (10, 10, 12, 12, 12, 12, 4, 4, 4)\n",
        "</pre>\n",
        "for a given string with comma seprate values, which will have both missing values numbers like ex: \"_, _, x, _, _, _\"\n",
        "you need fill the missing values\n",
        "\n",
        "Q: your program reads a string like ex: \"_, _, x, _, _, _\" and returns the filled sequence\n",
        "\n",
        "Ex: \n",
        "<pre>\n",
        "Input1: \"_,_,_,24\"\n",
        "Output1: 6,6,6,6\n",
        "\n",
        "Input2: \"40,_,_,_,60\"\n",
        "Output2: 20,20,20,20,20\n",
        "\n",
        "Input3: \"80,_,_,_,_\"\n",
        "Output3: 16,16,16,16,16\n",
        "\n",
        "Input4: \"_,_,30,_,_,_,50,_,_\"\n",
        "Output4: 10,10,12,12,12,12,4,4,4\n",
        "</pre>\n",
        "\n"
      ]
    },
    {
      "cell_type": "code",
      "metadata": {
        "id": "mG0OVA_9sqPD",
        "colab_type": "code",
        "colab": {}
      },
      "source": [
        "# write your python code here\n",
        "# you can take the above example as sample input for your program to test\n",
        "# it should work for any general input try not to hard code for only given input strings\n",
        "\n",
        "\n",
        "# you can free to change all these codes/structure\n",
        "def curve_smoothing(string):\n",
        "    # your code\n",
        "    return #list of values\n",
        "\n",
        "S=  \"_,_,30,_,_,_,50,_,_\"\n",
        "smoothed_values= curve_smoothing(S)\n",
        "print(# print above values)"
      ],
      "execution_count": 0,
      "outputs": []
    },
    {
      "cell_type": "code",
      "metadata": {
        "id": "L65GNINo6cZp",
        "colab_type": "code",
        "colab": {
          "base_uri": "https://localhost:8080/",
          "height": 87
        },
        "outputId": "88916fb4-20ae-4863-d4d5-faefb2a3d2af"
      },
      "source": [
        "S=  \"_,_,30,_,_,_,50,_,_\"\n",
        "\n",
        "S_len = len(S)\n",
        "Count =0\n",
        "final = \" \"\n",
        "for item in S.split(\",\"):\n",
        "  if item =='_':\n",
        "    Count = Count + 1\n",
        "    continue\n",
        "  item1 = int(item)/(Count +1)\n",
        "  print(item1)\n",
        "  if item == '_':\n",
        "    final = str(item1);\n",
        "  else:\n",
        "    final = item\n",
        "  print(final)\n"
      ],
      "execution_count": 146,
      "outputs": [
        {
          "output_type": "stream",
          "text": [
            "10.0\n",
            "30\n",
            "8.333333333333334\n",
            "50\n"
          ],
          "name": "stdout"
        }
      ]
    },
    {
      "cell_type": "code",
      "metadata": {
        "id": "LA06lQhRmdqS",
        "colab_type": "code",
        "colab": {
          "base_uri": "https://localhost:8080/",
          "height": 35
        },
        "outputId": "d7b91541-7dab-4dae-e4d0-ea508299b973"
      },
      "source": [
        "S_len = len(S)\n",
        "print(S_len)"
      ],
      "execution_count": 148,
      "outputs": [
        {
          "output_type": "stream",
          "text": [
            "19\n"
          ],
          "name": "stdout"
        }
      ]
    },
    {
      "cell_type": "markdown",
      "metadata": {
        "id": "g0WStbJVsqPL",
        "colab_type": "text"
      },
      "source": [
        "<h3> Q8: Find the probabilities</h3>\n",
        "\n",
        "You will be given a list of lists, each sublist will be of length 2 i.e. [[x,y],[p,q],[l,m]..[r,s]]\n",
        "consider its like a martrix of n rows and two columns\n",
        "1. The first column F will contain only 5 uniques values (F1, F2, F3, F4, F5)\n",
        "2. The second column S will contain only 3 uniques values (S1, S2, S3)\n",
        "<pre>\n",
        "your task is to find\n",
        "a. Probability of P(F=F1|S==S1), P(F=F1|S==S2), P(F=F1|S==S3)\n",
        "b. Probability of P(F=F2|S==S1), P(F=F2|S==S2), P(F=F2|S==S3)\n",
        "c. Probability of P(F=F3|S==S1), P(F=F3|S==S2), P(F=F3|S==S3)\n",
        "d. Probability of P(F=F4|S==S1), P(F=F4|S==S2), P(F=F4|S==S3)\n",
        "e. Probability of P(F=F5|S==S1), P(F=F5|S==S2), P(F=F5|S==S3)\n",
        "</pre>\n",
        "Ex:\n",
        "\n",
        "<pre>\n",
        "[[F1,S1],[F2,S2],[F3,S3],[F1,S2],[F2,S3],[F3,S2],[F2,S1],[F4,S1],[F4,S3],[F5,S1]]\n",
        "\n",
        "a. P(F=F1|S==S1)=1/4, P(F=F1|S==S2)=1/3, P(F=F1|S==S3)=0/3\n",
        "b. P(F=F2|S==S1)=1/4, P(F=F2|S==S2)=1/3, P(F=F2|S==S3)=1/3\n",
        "c. P(F=F3|S==S1)=0/4, P(F=F3|S==S2)=1/3, P(F=F3|S==S3)=1/3\n",
        "d. P(F=F4|S==S1)=1/4, P(F=F4|S==S2)=0/3, P(F=F4|S==S3)=1/3\n",
        "e. P(F=F5|S==S1)=1/4, P(F=F5|S==S2)=0/3, P(F=F5|S==S3)=0/3\n",
        "</pre>\n",
        "\n"
      ]
    },
    {
      "cell_type": "code",
      "metadata": {
        "id": "7WpBlln9sqPN",
        "colab_type": "code",
        "colab": {}
      },
      "source": [
        "# write your python code here\n",
        "# you can take the above example as sample input for your program to test\n",
        "# it should work for any general input try not to hard code for only given input strings\n",
        "\n",
        "\n",
        "\n",
        "# you can free to change all these codes/structure\n",
        "def compute_conditional_probabilites(A):\n",
        "    # your code\n",
        "    # print the output as per the instructions\n",
        "\n",
        "A = [[F1,S1],[F2,S2],[F3,S3],[F1,S2],[F2,S3],[F3,S2],[F2,S1],[F4,S1],[F4,S3],[F5,S1]]\n",
        "compute_conditional_probabilites(A)"
      ],
      "execution_count": 0,
      "outputs": []
    },
    {
      "cell_type": "markdown",
      "metadata": {
        "id": "s0jTqxJrsqPU",
        "colab_type": "text"
      },
      "source": [
        "<h3> Q9: Operations on sentences </h3>\n",
        "\n",
        "You will be given two sentances S1, S2 your task is to find \n",
        "<pre>\n",
        "a. Number of common words between S1, S2\n",
        "b. Words in S1 but not in S2\n",
        "c. Words in S2 but not in S1\n",
        "</pre>\n",
        "\n",
        "Ex: \n",
        "<pre>\n",
        "S1= \"the first column F will contain only 5 unique values\"\n",
        "S2= \"the second column S will contain only 3 unique values\"\n",
        "Output:\n",
        "a. 7\n",
        "b. ['first','F','5']\n",
        "c. ['second','S','3']\n",
        "</pre>"
      ]
    },
    {
      "cell_type": "code",
      "metadata": {
        "id": "Sse_W9CusqPW",
        "colab_type": "code",
        "colab": {
          "base_uri": "https://localhost:8080/",
          "height": 35
        },
        "outputId": "4a8911fa-0b0a-4652-ade3-2ac0404c9624"
      },
      "source": [
        "# write your python code here\n",
        "# you can take the above example as sample input for your program to test\n",
        "# it should work for any general input try not to hard code for only given input strings\n",
        "\n",
        "# you can free to change all these codes/structure\n",
        "def string_features(S1, S2):\n",
        "  elem1 = [x for x in S1.split()]\n",
        "  elem2 = [x for x in S2.split()]\n",
        "  lst  =[]\n",
        "  lst2 =[]\n",
        "  lst3 =[]\n",
        "  for item in elem1:\n",
        "      if item in elem2:\n",
        "        lst3.append(item)\n",
        "  #print(len(lst3))\n",
        "  a=len(lst3)\n",
        "\n",
        "  for item in elem1:\n",
        "      if item not in elem2:\n",
        "        lst.append(item)\n",
        "  #print(lst)\n",
        "  b=lst\n",
        "\n",
        "  for item in elem2:\n",
        "      if item not in elem1:\n",
        "        lst2.append(item)\n",
        "  #print(lst2)\n",
        "  c=lst2\n",
        "\n",
        "  \n",
        "  return a, b, c\n",
        "\n",
        "S1= \"the first column F will contain only 5 uniques values\"\n",
        "S2= \"the second column S will contain only 3 uniques values\"\n",
        "a,b,c = string_features(S1, S2)\n",
        "print(a,b,c)"
      ],
      "execution_count": 128,
      "outputs": [
        {
          "output_type": "stream",
          "text": [
            "7 ['first', 'F', '5'] ['second', 'S', '3']\n"
          ],
          "name": "stdout"
        }
      ]
    },
    {
      "cell_type": "markdown",
      "metadata": {
        "id": "vEsz2Oh2sqPb",
        "colab_type": "text"
      },
      "source": [
        "<h3> Q10: Error Function</h3>\n",
        "\n",
        "You will be given a list of lists, each sublist will be of length 2 i.e. [[x,y],[p,q],[l,m]..[r,s]]\n",
        "consider its like a martrix of n rows and two columns\n",
        "\n",
        "a. the first column Y will contain interger values <br>\n",
        "b. the second column $Y_{score}$ will be having float values <br>\n",
        "Your task is to find the value of $f(Y,Y_{score}) = -1*\\frac{1}{n}\\Sigma_{for each Y,Y_{score} pair}(Ylog10(Y_{score})+(1-Y)log10(1-Y_{score}))$ here n is the number of rows in the matrix\n",
        "<pre>\n",
        "Ex:\n",
        "[[1, 0.4], [0, 0.5], [0, 0.9], [0, 0.3], [0, 0.6], [1, 0.1], [1, 0.9], [1, 0.8]]\n",
        "output:\n",
        "0.44982\n",
        "</pre>\n",
        "$\\frac{-1}{8}\\cdot((1\\cdot log_{10}(0.4)+0\\cdot log_{10}(0.6))+(0\\cdot log_{10}(0.5)+1\\cdot log_{10}(0.5)) + ... + (1\\cdot log_{10}(0.8)+0\\cdot log_{10}(0.2)) )$"
      ]
    },
    {
      "cell_type": "code",
      "metadata": {
        "id": "YOd2FlZmsqPe",
        "colab_type": "code",
        "colab": {}
      },
      "source": [
        "# write your python code here\n",
        "# you can take the above example as sample input for your program to test\n",
        "# it should work for any general input try not to hard code for only given input strings\n",
        "\n",
        "\n",
        "# you can free to change all these codes/structure\n",
        "def compute_log_loss(A):\n",
        "    # your code\n",
        "    \n",
        "    return loss\n",
        "\n",
        "A = [[1, 0.4], [0, 0.5], [0, 0.9], [0, 0.3], [0, 0.6], [1, 0.1], [1, 0.9], [1, 0.8]]\n",
        "loss = compute_log_loss(A)\n",
        "print(# the above loss)"
      ],
      "execution_count": 0,
      "outputs": []
    }
  ]
}