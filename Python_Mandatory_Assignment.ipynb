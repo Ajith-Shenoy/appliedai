{
  "nbformat": 4,
  "nbformat_minor": 0,
  "metadata": {
    "kernelspec": {
      "display_name": "Python 3",
      "language": "python",
      "name": "python3"
    },
    "language_info": {
      "codemirror_mode": {
        "name": "ipython",
        "version": 3
      },
      "file_extension": ".py",
      "mimetype": "text/x-python",
      "name": "python",
      "nbconvert_exporter": "python",
      "pygments_lexer": "ipython3",
      "version": "3.6.6"
    },
    "colab": {
      "name": "Python_Mandatory_Assignment.ipynb",
      "provenance": [],
      "collapsed_sections": [],
      "include_colab_link": true
    }
  },
  "cells": [
    {
      "cell_type": "markdown",
      "metadata": {
        "id": "view-in-github",
        "colab_type": "text"
      },
      "source": [
        "<a href=\"https://colab.research.google.com/github/VishnuGupta5883/appliedai/blob/master/Python_Mandatory_Assignment.ipynb\" target=\"_parent\"><img src=\"https://colab.research.google.com/assets/colab-badge.svg\" alt=\"Open In Colab\"/></a>"
      ]
    },
    {
      "cell_type": "markdown",
      "metadata": {
        "id": "vMoNAbSssqOD",
        "colab_type": "text"
      },
      "source": [
        "<h1>Python: without numpy or sklearn </h1>"
      ]
    },
    {
      "cell_type": "markdown",
      "metadata": {
        "id": "gHoREhqfsqOI",
        "colab_type": "text"
      },
      "source": [
        "<h3> Q1: Given two matrices please print the product of those two matrices </h3>\n",
        "<pre>\n",
        "\n",
        "Ex 1: A   = [[1 3 4]\n",
        "             [2 5 7]\n",
        "             [5 9 6]]\n",
        "      B   = [[1 0 0]\n",
        "             [0 1 0]\n",
        "             [0 0 1]]\n",
        "      A*B = [[1 3 4]\n",
        "             [2 5 7]\n",
        "             [5 9 6]]\n",
        "\n",
        "     \n",
        "Ex 2: A   = [[1 2]\n",
        "             [3 4]]\n",
        "      B   = [[1 2 3 4 5]\n",
        "             [5 6 7 8 9]]\n",
        "      A*B = [[11 14 17 20 23]\n",
        "             [18 24 30 36 42]]\n",
        "             \n",
        "Ex 3: A   = [[1 2]\n",
        "             [3 4]]\n",
        "      B   = [[1 4]\n",
        "             [5 6]\n",
        "             [7 8]\n",
        "             [9 6]]\n",
        "      A*B =Not possible\n",
        "</pre>"
      ]
    },
    {
      "cell_type": "code",
      "metadata": {
        "id": "vOxPQ-ImsqOK",
        "colab_type": "code",
        "outputId": "fd9a7db3-6d29-4355-9846-e6bb4d020e91",
        "colab": {
          "base_uri": "https://localhost:8080/",
          "height": 35
        }
      },
      "source": [
        "# write your python code here\n",
        "# you can take the above example as sample input for your program to test\n",
        "# it should work for any general input try not to hard code for only given input examples\n",
        "\n",
        "\n",
        "# you can free to change all these codes/structure\n",
        "# here A and B are list of lists\n",
        "def result_mat(A,B):\n",
        "  result =[]\n",
        "  for i in range(len(A)):\n",
        "    rowlist =[]\n",
        "    for j in range(len(B[0])):\n",
        "      rowlist.append(0)\n",
        "    result.append(rowlist)\n",
        "  return result\n",
        "\n",
        "def matrix_mul(A, B):\n",
        "    # write your code\n",
        "    if len(A[0])!=len(B):\n",
        "      print(\"Multiplication not possible\")\n",
        "    else:\n",
        "      res = result_mat(A,B)\n",
        "      for i in range(len(A)):\n",
        "        for j in range(len(B[0])):\n",
        "           \n",
        "          for k in range(len(B)):\n",
        "            res[i][j] += A[i][k] * B[k][j]\n",
        "      print(res)\n",
        "\n",
        "A   = [[1, 2],[3, 4]]\n",
        "B   = [[1, 4],[5, 6],[7, 8],[9, 6]]    \n",
        "matrix_mul(A, B)"
      ],
      "execution_count": 0,
      "outputs": [
        {
          "output_type": "stream",
          "text": [
            "Multiplication not possible\n"
          ],
          "name": "stdout"
        }
      ]
    },
    {
      "cell_type": "markdown",
      "metadata": {
        "id": "zJY8tdH6sqOU",
        "colab_type": "text"
      },
      "source": [
        "<h3> Q2: Select a number randomly with probability proportional to its magnitude from the given array of n elements</h3>\n",
        "\n",
        "consider an experiment, selecting an element from the list A randomly with probability proportional to its magnitude.\n",
        "assume we are doing the same experiment for 100 times with replacement, in each experiment you will print a number that is selected randomly from A.\n",
        "\n",
        "<pre>\n",
        "Ex 1: A = [0 5 27 6 13 28 100 45 10 79]\n",
        "let f(x) denote the number of times x getting selected in 100 experiments.\n",
        "f(100) > f(79) > f(45) > f(28) > f(27) > f(13) > f(10) > f(6) > f(5) > f(0)\n",
        "</pre>"
      ]
    },
    {
      "cell_type": "code",
      "metadata": {
        "id": "VKd0sImPsqOW",
        "colab_type": "code",
        "outputId": "489d938d-b22b-4079-ae3c-4f774c8bdcdd",
        "colab": {
          "base_uri": "https://localhost:8080/",
          "height": 55
        }
      },
      "source": [
        "from random import uniform\n",
        "import random\n",
        "from itertools import accumulate\n",
        "from bisect import bisect\n",
        "# write your python code here\n",
        "# you can take the above example as sample input for your program to test\n",
        "# it should work for any general input try not to hard code for only given input examples\n",
        "\n",
        "A = [0, 5, 27, 6, 13, 28, 100, 45, 10, 79]\n",
        "https://stackoverflow.com/questions/57162832/find-propotional-sampling-using-python\n",
        "\n",
        "# you can free to change all these codes/structure\n",
        "\n",
        "def pick_a_number_from_list(A, n=100):\n",
        "    # calculate cumulative sum from A:\n",
        "    cum_sum = [*accumulate(A)]\n",
        "    # cum_sum = [0, 5, 32, 38, 51, 79, 179, 224, 234, 313]\n",
        "\n",
        "    out = []\n",
        "    for _ in range(n):\n",
        "        i = random.random()                     # i = [0.0, 1.0)\n",
        "        idx = bisect(cum_sum, i*cum_sum[-1])    # get index to list A\n",
        "        out.append(A[idx])\n",
        "    return out\n",
        "number = pick_a_number_from_list(A)\n",
        "print(number)\n",
        "\n"
      ],
      "execution_count": 95,
      "outputs": [
        {
          "output_type": "stream",
          "text": [
            "[13, 79, 100, 100, 28, 45, 79, 100, 6, 79, 28, 45, 13, 100, 79, 79, 79, 79, 45, 100, 79, 28, 27, 100, 100, 100, 45, 100, 79, 79, 6, 79, 100, 100, 100, 100, 100, 6, 100, 79, 45, 28, 100, 79, 100, 28, 28, 45, 45, 79, 27, 27, 100, 27, 5, 100, 100, 79, 100, 79, 79, 79, 6, 45, 28, 100, 13, 79, 100, 28, 79, 100, 79, 5, 27, 45, 6, 45, 79, 79, 79, 100, 79, 5, 79, 79, 13, 100, 6, 79, 28, 13, 13, 5, 79, 79, 13, 45, 100, 45]\n"
          ],
          "name": "stdout"
        }
      ]
    },
    {
      "cell_type": "markdown",
      "metadata": {
        "id": "hQqjwNdxsqOb",
        "colab_type": "text"
      },
      "source": [
        "<h3> Q3: Replace the digits in the string with #</h3>\n",
        "\n",
        "Consider a string that will have digits in that, we need to remove all the characters which are not digits and replace the digits with #\n",
        "<pre>\n",
        "Ex 1: A = 234                Output: ###\n",
        "Ex 2: A = a2b3c4             Output: ###\n",
        "Ex 3: A = abc                Output:   (empty string)\n",
        "Ex 5: A = #2a$#b%c%561#      Output: ####\n",
        "</pre>"
      ]
    },
    {
      "cell_type": "code",
      "metadata": {
        "id": "DcsuTZIKsqOc",
        "colab_type": "code",
        "outputId": "f03e02bb-8396-49f2-ddcd-be871958dc39",
        "colab": {
          "base_uri": "https://localhost:8080/",
          "height": 35
        }
      },
      "source": [
        "import re\n",
        "# write your python code here\n",
        "# you can take the above example as sample input for your program to test\n",
        "# it should work for any general input try not to hard code for only given input examples\n",
        "\n",
        "# you can free to change all these codes/structure\n",
        "# String: it will be the input to your program\n",
        "String = 'a2b3c4'\n",
        "def replace_digits(String):\n",
        "    result = re.sub(\"[a-z $%#]\", '', String)\n",
        "    result = re.sub(\"[0-9]\", '#',result)   \n",
        "    return result # modified string which is after replacing the # with digits\n",
        "\n",
        "replace_digits(String)"
      ],
      "execution_count": 0,
      "outputs": [
        {
          "output_type": "execute_result",
          "data": {
            "text/plain": [
              "'###'"
            ]
          },
          "metadata": {
            "tags": []
          },
          "execution_count": 34
        }
      ]
    },
    {
      "cell_type": "markdown",
      "metadata": {
        "id": "BbrG23RZsqOi",
        "colab_type": "text"
      },
      "source": [
        "<h3> Q4: Students marks dashboard</h3>\n",
        "\n",
        "Consider the marks list of class students given in two lists <br>\n",
        "Students = ['student1','student2','student3','student4','student5','student6','student7','student8','student9','student10'] <br>\n",
        "Marks = [45, 78, 12, 14, 48, 43, 45, 98, 35, 80] <br>\n",
        "from the above two lists the Student[0] got Marks[0],  Student[1] got Marks[1] and so on. <br><br>\n",
        "\n",
        "Your task is to print the name of students\n",
        "\n",
        "<strong>a. Who got top 5 ranks, in the descending order of marks</strong> <br>\n",
        "<strong>b. Who got least 5 ranks, in the increasing order of marks</strong><br>\n",
        "<strong>d. Who got marks between  &gt;25th percentile &lt;75th percentile, in the increasing order of marks.</strong>\n",
        "\n",
        "<pre>\n",
        "Ex 1: \n",
        "Students=['student1','student2','student3','student4','student5','student6','student7','student8','student9','student10'] \n",
        "Marks = [45, 78, 12, 14, 48, 43, 47, 98, 35, 80]\n",
        "\n",
        "a. \n",
        "student8  98\n",
        "student10 80\n",
        "student2  78\n",
        "student5  48\n",
        "student7  47\n",
        "\n",
        "b.\n",
        "student3 12\n",
        "student4 14\n",
        "student9 35\n",
        "student6 43\n",
        "student1 45\n",
        "\n",
        "c.\n",
        "student9 35\n",
        "student6 43\n",
        "student1 45\n",
        "student7 47\n",
        "student5 48\n",
        "</pre>"
      ]
    },
    {
      "cell_type": "code",
      "metadata": {
        "id": "fPgSZqCXsqOk",
        "colab_type": "code",
        "outputId": "4208ee89-39ef-4c9e-ee9c-fa78d7e5cd01",
        "colab": {
          "base_uri": "https://localhost:8080/",
          "height": 69
        }
      },
      "source": [
        "# write your python code here\n",
        "# you can take the above example as sample input for your program to test\n",
        "# it should work for any general input try not to hard code for only given input examples\n",
        "\n",
        "# you can free to change all these codes/structure\n",
        "def display_dash_board(students, marks):\n",
        "  dict={}\n",
        "  mark2 = marks;\n",
        "  mark2.sort() \n",
        "  #print(mark2)\n",
        "\n",
        "  p25 = (25 *(len(mark2)+ 1))/100\n",
        "  p75 = (75 *(len(mark2)+ 1))/100\n",
        "  q25 = mark2[int(p25)-1] # to calculate 25th percentile\n",
        "  q75 = mark2[int(p75)-1] # to calculate 75th percentile\n",
        "  #print(q25, q75)\n",
        "\n",
        "  for i in students:\n",
        "    for j in marks:\n",
        "      dict[i]=j\n",
        "      marks.remove(j)\n",
        "      break\n",
        "  #print(dict)\n",
        "\n",
        "  top_5_students = sorted(dict.items(), key=lambda x: x[1], reverse=True)\n",
        "  top_5_students = top_5_students[:5]\n",
        "      # write code for computing top least 5 students\n",
        "  least_5_students = sorted(dict.items(), key=lambda x: x[1], reverse=False)\n",
        "  least_5_students =least_5_students[:5]\n",
        "  \n",
        "  a =  {key:value for key,value in dict.items() if value > q25 and value < q75 }\n",
        "  students_within_25_and_75 = sorted(a.items(), key=lambda x: x[1], reverse=False)\n",
        "\n",
        "  #print(top_5_students,least_5_students,students_within_25_and_75)\n",
        "    \n",
        "  return top_5_students, least_5_students, students_within_25_and_75\n",
        "\n",
        "students=['student1','student2','student3','student4','student5','student6','student7','student8','student9','student10'] \n",
        "marks = [45, 78, 12, 14, 48, 43, 47, 98, 35, 80]\n",
        "\n",
        "top_5_students, least_5_students, students_within_25_and_75 = display_dash_board(students, marks)\n",
        "print(\"top_5_students:\",top_5_students)\n",
        "print(\"least_5_students:\",least_5_students)\n",
        "print(\"students_within_25_and_75:\",students_within_25_and_75)\n"
      ],
      "execution_count": 87,
      "outputs": [
        {
          "output_type": "stream",
          "text": [
            "top_5_students: [('student10', 98), ('student9', 80), ('student8', 78), ('student7', 48), ('student6', 47)]\n",
            "least_5_students: [('student1', 12), ('student2', 14), ('student3', 35), ('student4', 43), ('student5', 45)]\n",
            "students_within_25_and_75: [('student3', 35), ('student4', 43), ('student5', 45), ('student6', 47), ('student7', 48)]\n"
          ],
          "name": "stdout"
        }
      ]
    },
    {
      "cell_type": "markdown",
      "metadata": {
        "id": "3FNhB-zssqOn",
        "colab_type": "text"
      },
      "source": [
        "<h3> Q5: Find the closest points</h3>\n",
        "\n",
        "Consider you are given n data points in the form of list of tuples like S=[(x1,y1),(x2,y2),(x3,y3),(x4,y4),(x5,y5),..,(xn,yn)] and a point P=(p,q) <br> your task is to find 5 closest points(based on cosine distance) in S from P\n",
        "\n",
        "<br>Cosine distance between two points (x,y) and (p,q) is defined as $cos^{-1}(\\frac{(x\\cdot p+y\\cdot q)}{\\sqrt(x^2+y^2)\\cdot\\sqrt(p^2+q^2)})$\n",
        "<pre>\n",
        "Ex:\n",
        "\n",
        "S= [(1,2),(3,4),(-1,1),(6,-7),(0, 6),(-5,-8),(-1,-1)(6,0),(1,-1)]\n",
        "P= (3,-4)\n",
        "<img src='https://i.imgur.com/vIFPOcG.jpg', width=300>\n",
        "Output:\n",
        "(6,-7)\n",
        "(1,-1)\n",
        "(6,0)\n",
        "(-5,-8)\n",
        "(-1,-1)\n",
        "</pre>"
      ]
    },
    {
      "cell_type": "code",
      "metadata": {
        "id": "49d9k6fLsqOr",
        "colab_type": "code",
        "outputId": "607e2b7d-1bb5-4c2a-ca8d-e9b43eba12fe",
        "colab": {
          "base_uri": "https://localhost:8080/",
          "height": 72
        }
      },
      "source": [
        "import math\n",
        "import numpy as np\n",
        "from numpy.linalg import norm\n",
        "\n",
        "# write your python code here\n",
        "# you can take the above example as sample input for your program to test\n",
        "# it should work for any general input try not to hard code for only given input examples\n",
        "# you can free to change all these codes/structure\n",
        "\n",
        "\n",
        "# here S is list of tuples and P is a tuple ot len=2\n",
        "def closest_points_to_p(S, P):\n",
        "  dict ={}; closest_points_to_p=[];\n",
        "  for i in range(len(S)):\n",
        "    cos_d = math.acos(np.dot(S[i],P)/(norm(S[i])*norm(P)))\n",
        "    #print(cos_d,S[i])\n",
        "    dict[S[i]] = cos_d\n",
        "  #print(dict)\n",
        "  dict = sorted(dict.items(), key=lambda x: x[1], reverse=False)\n",
        "  dict =dict[:5]\n",
        "  print(dict)\n",
        "  for i in dict:\n",
        "    closest_points_to_p.append(i[0])\n",
        "  return closest_points_to_p  # its list of tuples\n",
        "\n",
        "S= [(1,2),(3,4),(-1,1),(6,-7),(0, 6),(-5,-8),(-1,-1),(6,0),(1,-1)]\n",
        "P= (3,-4)\n",
        "points = closest_points_to_p(S, P)\n",
        "print(points) #print the returned values"
      ],
      "execution_count": 58,
      "outputs": [
        {
          "output_type": "stream",
          "text": [
            "[((6, -7), 0.06512516333438509), ((1, -1), 0.14189705460416438), ((6, 0), 0.9272952180016123), ((-5, -8), 1.2021004241368467), ((-1, -1), 1.4288992721907328)]\n",
            "[(6, -7), (1, -1), (6, 0), (-5, -8), (-1, -1)]\n"
          ],
          "name": "stdout"
        }
      ]
    },
    {
      "cell_type": "markdown",
      "metadata": {
        "id": "f_-ny1CbsqOz",
        "colab_type": "text"
      },
      "source": [
        "<h3> Q6: Find which line separates oranges and apples</h3>\n",
        "\n",
        "Consider you are given two set of data points in the form of list of tuples like \n",
        "<pre>\n",
        "Red =[(R11,R12),(R21,R22),(R31,R32),(R41,R42),(R51,R52),..,(Rn1,Rn2)]\n",
        "Blue=[(B11,B12),(B21,B22),(B31,B32),(B41,B42),(B51,B52),..,(Bm1,Bm2)]\n",
        "</pre>\n",
        "and set of line equations(in the string format, i.e list of strings)\n",
        "<pre>\n",
        "Lines = [a1x+b1y+c1,a2x+b2y+c2,a3x+b3y+c3,a4x+b4y+c4,..,K lines]\n",
        "Note: You need to do string parsing here and get the coefficients of x,y and intercept.\n",
        "</pre>\n",
        "Your task here is to print \"YES\"/\"NO\" for each line given. You should print YES, if all the red points are one side of the line and blue points are on other side of the line, otherwise you should print NO.\n",
        "<pre>\n",
        "Ex:\n",
        "Red= [(1,1),(2,1),(4,2),(2,4), (-1,4)]\n",
        "Blue= [(-2,-1),(-1,-2),(-3,-2),(-3,-1),(1,-3)]\n",
        "Lines=[\"1x+1y+0\",\"1x-1y+0\",\"1x+0y-3\",\"0x+1y-0.5\"]\n",
        "<img src='https://i.imgur.com/DoQf7mE.jpg' width=400>\n",
        "Output:\n",
        "YES\n",
        "NO\n",
        "NO\n",
        "YES\n",
        "</pre>"
      ]
    },
    {
      "cell_type": "code",
      "metadata": {
        "id": "wxZYxuuAsqO2",
        "colab_type": "code",
        "outputId": "bf96640c-9b21-4e7a-832c-7aeec1d0a0c3",
        "colab": {
          "base_uri": "https://localhost:8080/",
          "height": 156
        }
      },
      "source": [
        "import math\n",
        "from prettytable import PrettyTable\n",
        "import re\n",
        "# write your python code here\n",
        "# you can take the above example as sample input for your program to test\n",
        "# it should work for any general input try not to hard code for only given input strings\n",
        "\n",
        "\n",
        "# you can free to change all these codes/structure\n",
        "def i_am_the_one(Red,Blue,lines):\n",
        "  x = PrettyTable()\n",
        "  x.field_names = [\"Line\",\"Red Points one side\",\"Blue Points on other side\",\"FINAL Result\"]\n",
        "\n",
        "  \n",
        "  line1 =[]\n",
        "  for i in lines:\n",
        "    z = re.findall(r'[\\d\\.\\-\\+]+', i)\n",
        "    line1.append(z)\n",
        "  #print(line1)\n",
        "\n",
        "  dicR ={}\n",
        "  dicB ={}\n",
        "  dicRF ={}\n",
        "  dicBF ={}\n",
        "  tuple1 =()\n",
        "  #for i in range(len(Red)):\n",
        "  for k in line1:\n",
        "    for j in Red:\n",
        "      a= (int(k[0]) * j[0]) + (int(k[1]) * j[1]) + (float(k[2]));\n",
        "      dicR[j] =a;       \n",
        "    #print(\"Red Points\",dicR)\n",
        "    for l in Blue:\n",
        "      b= (int(k[0]) * l[0]) + (int(k[1]) * l[1]) + (float(k[2]));\n",
        "      dicB[l] =b;\n",
        "    #print(\"Blue points\",dicB)\n",
        "    for key,value in dicR.items():\n",
        "      if value > 0.0:\n",
        "        dicRF[str(k)] ='YES'\n",
        "      else:\n",
        "        dicRF[str(k)] ='NO'\n",
        "    #print(\"Red points\",dicRF)\n",
        "    for key,value in dicB.items():\n",
        "      if value < 0.0:\n",
        "        dicBF[str(k)] ='YES'\n",
        "      else:\n",
        "        dicBF[str(k)] ='NO'\n",
        "  #print(\"Blue points\",dicBF)\n",
        "    if (dicRF[str(k)] ==dicBF[str(k)]) and dicRF[str(k)] =='YES':\n",
        "      x.add_row([str(k),dicRF[str(k)], dicBF[str(k)],\"YES\"])\n",
        "    else: \n",
        "      x.add_row([str(k),dicRF[str(k)], dicBF[str(k)],\"NO\"])\n",
        "#print(x)\n",
        "  return x\n",
        "\n",
        "Red= [(1,1),(2,1),(4,2),(2,4),(-1,4)]\n",
        "Blue= [(-2,-1),(-1,-2),(-3,-2),(-3,-1),(1,-3)]\n",
        "Lines=[\"1x+1y+0\",\"1x-1y+0\",\"1x+0y-3\",\"0x+1y-0.5\"]\n",
        "\n",
        "#for i in Lines:\n",
        "yes_or_no = i_am_the_one(Red, Blue, Lines)\n",
        "print(yes_or_no) # the returned value"
      ],
      "execution_count": 0,
      "outputs": [
        {
          "output_type": "stream",
          "text": [
            "+---------------------+---------------------+---------------------------+--------------+\n",
            "|         Line        | Red Points one side | Blue Points on other side | FINAL Result |\n",
            "+---------------------+---------------------+---------------------------+--------------+\n",
            "|  ['1', '+1', '+0']  |         YES         |            YES            |     YES      |\n",
            "|  ['1', '-1', '+0']  |          NO         |             NO            |      NO      |\n",
            "|  ['1', '+0', '-3']  |          NO         |            YES            |      NO      |\n",
            "| ['0', '+1', '-0.5'] |         YES         |            YES            |     YES      |\n",
            "+---------------------+---------------------+---------------------------+--------------+\n"
          ],
          "name": "stdout"
        }
      ]
    },
    {
      "cell_type": "markdown",
      "metadata": {
        "id": "82-v5rgdsqO-",
        "colab_type": "text"
      },
      "source": [
        "<h3> Q7: Filling the missing values in the specified format</h3>\n",
        "\n",
        "You will be given a string with digits and '\\_'(missing value) symbols you have to replace the '\\_' symbols as explained \n",
        "\n",
        "<pre>\n",
        "Ex 1: _, _, _, 24 ==> 24/4, 24/4, 24/4, 24/4 i.e we. have distributed the 24 equally to all 4 places <br>\n",
        "Ex 2: 40, _, _, _, 60 ==> (60+40)/5,(60+40)/5,(60+40)/5,(60+40)/5,(60+40)/5 ==> 20, 20, 20, 20, 20 i.e. the sum of (60+40) is distributed qually to all 5 places<br>\n",
        "Ex 3: 80, _, _, _, _  ==> 80/5,80/5,80/5,80/5,80/5 ==> 16, 16, 16, 16, 16 i.e. the 80 is distributed qually to all 5 missing values that are right to it<br>\n",
        "Ex 4: _, _, 30, _, _, _, 50, _, _  \n",
        "==> we will fill the missing values from left to right \n",
        "    a. first we will distribute the 30 to left two missing values (10, 10, 10, _, _, _, 50, _, _)\n",
        "    b. now distribute the sum (10+50) missing values in between (10, 10, 12, 12, 12, 12, 12, _, _) \n",
        "    c. now we will distribute 12 to right side missing values (10, 10, 12, 12, 12, 12, 4, 4, 4)\n",
        "</pre>\n",
        "for a given string with comma seprate values, which will have both missing values numbers like ex: \"_, _, x, _, _, _\"\n",
        "you need fill the missing values\n",
        "\n",
        "Q: your program reads a string like ex: \"_, _, x, _, _, _\" and returns the filled sequence\n",
        "\n",
        "Ex: \n",
        "<pre>\n",
        "Input1: \"_,_,_,24\"\n",
        "Output1: 6,6,6,6\n",
        "\n",
        "Input2: \"40,_,_,_,60\"\n",
        "Output2: 20,20,20,20,20\n",
        "\n",
        "Input3: \"80,_,_,_,_\"\n",
        "Output3: 16,16,16,16,16\n",
        "\n",
        "Input4: \"_,_,30,_,_,_,50,_,_\"\n",
        "Output4: 10,10,12,12,12,12,4,4,4\n",
        "</pre>\n",
        "\n"
      ]
    },
    {
      "cell_type": "code",
      "metadata": {
        "id": "1HJSnB__Owp9",
        "colab_type": "code",
        "colab": {
          "base_uri": "https://localhost:8080/",
          "height": 87
        },
        "outputId": "02df6a43-8dba-48d1-8623-e59006e0d873"
      },
      "source": [
        "# write your python code here\n",
        "# you can take the above example as sample input for your program to test\n",
        "# it should work for any general input try not to hard code for only given input strings\n",
        "\n",
        "\n",
        "# you can free to change all these codes/structure\n",
        "https://stackoverflow.com/questions/57179618/filling-the-missing-values-in-the-specified-format-python\n",
        "\n",
        "def fun(x, a, b):\n",
        "    if a == -1:\n",
        "        v = float(x[b])/(b+1)\n",
        "        for i in range(a+1,b+1):\n",
        "            x[i] = v\n",
        "    elif b == -1:\n",
        "        v = float(x[a])/(len(x)-a)\n",
        "        for i in range(a, len(x)):\n",
        "            x[i] = v\n",
        "    else:\n",
        "        v = (float(x[a])+float(x[b]))/(b-a+1)\n",
        "        for i in range(a,b+1):\n",
        "            x[i] = v\n",
        "    return x\n",
        "\n",
        "def replace(text):\n",
        "    # Create array from the string\n",
        "    x = text.replace(\" \",\"\").split(\",\")\n",
        "    # Get all the pairs of indices having number\n",
        "    y = [i for i, v in enumerate(x) if v != '_']\n",
        "    # Starting with _ ?\n",
        "    if y[0] != 0:\n",
        "        y = [-1] + y\n",
        "    # Ending with _ ?\n",
        "    if y[-1] != len(x)-1:\n",
        "        y = y + [-1]    \n",
        "    # run over all the pairs\n",
        "    for (a, b) in zip(y[:-1], y[1:]): \n",
        "        fun(x,a,b)          \n",
        "    return x\n",
        "\n",
        "# Test cases\n",
        "tests = [\n",
        "    \"_,_,_,24\",\n",
        "    \"40,_,_,_,60\",\n",
        "    \"80,_,_,_,_\",\n",
        "     \"_,_,30,_,_,_,50,_,_\"]\n",
        "\n",
        "for i in tests:\n",
        "    print (replace(i))\n"
      ],
      "execution_count": 111,
      "outputs": [
        {
          "output_type": "stream",
          "text": [
            "[6.0, 6.0, 6.0, 6.0]\n",
            "[20.0, 20.0, 20.0, 20.0, 20.0]\n",
            "[16.0, 16.0, 16.0, 16.0, 16.0]\n",
            "[10.0, 10.0, 12.0, 12.0, 12.0, 12.0, 4.0, 4.0, 4.0]\n"
          ],
          "name": "stdout"
        }
      ]
    },
    {
      "cell_type": "markdown",
      "metadata": {
        "id": "g0WStbJVsqPL",
        "colab_type": "text"
      },
      "source": [
        "<h3> Q8: Find the probabilities</h3>\n",
        "\n",
        "You will be given a list of lists, each sublist will be of length 2 i.e. [[x,y],[p,q],[l,m]..[r,s]]\n",
        "consider its like a martrix of n rows and two columns\n",
        "1. The first column F will contain only 5 uniques values (F1, F2, F3, F4, F5)\n",
        "2. The second column S will contain only 3 uniques values (S1, S2, S3)\n",
        "<pre>\n",
        "your task is to find\n",
        "a. Probability of P(F=F1|S==S1), P(F=F1|S==S2), P(F=F1|S==S3)\n",
        "b. Probability of P(F=F2|S==S1), P(F=F2|S==S2), P(F=F2|S==S3)\n",
        "c. Probability of P(F=F3|S==S1), P(F=F3|S==S2), P(F=F3|S==S3)\n",
        "d. Probability of P(F=F4|S==S1), P(F=F4|S==S2), P(F=F4|S==S3)\n",
        "e. Probability of P(F=F5|S==S1), P(F=F5|S==S2), P(F=F5|S==S3)\n",
        "</pre>\n",
        "Ex:\n",
        "\n",
        "<pre>\n",
        "[[F1,S1],[F2,S2],[F3,S3],[F1,S2],[F2,S3],[F3,S2],[F2,S1],[F4,S1],[F4,S3],[F5,S1]]\n",
        "\n",
        "a. P(F=F1|S==S1)=1/4, P(F=F1|S==S2)=1/3, P(F=F1|S==S3)=0/3\n",
        "b. P(F=F2|S==S1)=1/4, P(F=F2|S==S2)=1/3, P(F=F2|S==S3)=1/3\n",
        "c. P(F=F3|S==S1)=0/4, P(F=F3|S==S2)=1/3, P(F=F3|S==S3)=1/3\n",
        "d. P(F=F4|S==S1)=1/4, P(F=F4|S==S2)=0/3, P(F=F4|S==S3)=1/3\n",
        "e. P(F=F5|S==S1)=1/4, P(F=F5|S==S2)=0/3, P(F=F5|S==S3)=0/3\n",
        "</pre>\n",
        "\n"
      ]
    },
    {
      "cell_type": "code",
      "metadata": {
        "id": "7WpBlln9sqPN",
        "colab_type": "code",
        "outputId": "7cb12bc1-4b5b-4d6d-909f-5c3dbe2669e9",
        "colab": {
          "base_uri": "https://localhost:8080/",
          "height": 104
        }
      },
      "source": [
        "# write your python code here\n",
        "# you can take the above example as sample input for your program to test\n",
        "# it should work for any general input try not to hard code for only given input strings\n",
        "\n",
        "\n",
        "\n",
        "# you can free to change all these codes/structure\n",
        "def compute_conditional_probabilites(A):\n",
        "\n",
        "  F= []\n",
        "  S= []\n",
        "  for i in A:\n",
        "    if i[0] in F:\n",
        "      continue\n",
        "    else:\n",
        "      F.append(i[0])\n",
        "    if i[1] in S:\n",
        "      continue\n",
        "    else:\n",
        "      S.append(i[1])\n",
        "\n",
        "  counts1=0\n",
        "  countf1s1 =0\n",
        "  countf2s1 =0\n",
        "  countf3s1 =0\n",
        "  countf4s1 =0\n",
        "  countf5s1 =0\n",
        "  counts2=0\n",
        "  countf1s2 =0\n",
        "  countf2s2 =0\n",
        "  countf3s2 =0\n",
        "  countf4s2 =0\n",
        "  countf5s2 =0\n",
        "  counts3=0\n",
        "  countf1s3 =0\n",
        "  countf2s3 =0\n",
        "  countf3s3 =0\n",
        "  countf4s3 =0\n",
        "  countf5s3 =0\n",
        "\n",
        "  for i in A:\n",
        "    if i[1]==S[0]:\n",
        "      counts1 = counts1 + 1\n",
        "      if i[0]==F[0]:\n",
        "        countf1s1 = countf1s1 + 1\n",
        "      elif i[0]==F[1]:\n",
        "        countf2s1 = countf2s1 + 1\n",
        "      elif i[0]==F[2]:\n",
        "        countf3s1 = countf3s1 + 1\n",
        "      elif i[0]==F[3]:\n",
        "        countf4s1 = countf4s1 + 1\n",
        "      else:\n",
        "        countf5s1 = countf5s1 + 1\n",
        "    elif i[1]==S[1]:\n",
        "      counts2 = counts2 + 1\n",
        "      if i[0]==F[0]:\n",
        "        countf1s2 = countf1s2 + 1\n",
        "      elif i[0]==F[1]:\n",
        "        countf2s2 = countf2s2 + 1\n",
        "      elif i[0]==F[2]:\n",
        "        countf3s2 = countf3s2 + 1\n",
        "      elif i[0]==F[3]:\n",
        "        countf4s2 = countf4s2 + 1\n",
        "      else:\n",
        "        countf5s2 = countf5s2 + 1\n",
        "    elif i[1]==S[2]:\n",
        "      counts3 = counts3 + 1\n",
        "      if i[0]==F[0]:\n",
        "        countf1s3 = countf1s3 + 1\n",
        "      elif i[0]==F[1]:\n",
        "        countf2s3 = countf2s3 + 1\n",
        "      elif i[0]==F[2]:\n",
        "        countf3s3 = countf3s3 + 1\n",
        "      elif i[0]==F[3]:\n",
        "        countf4s3 = countf4s3 + 1\n",
        "      else:\n",
        "        countf5s3 = countf5s3 + 1\n",
        "\n",
        "\n",
        "  print(\"P(F=F1|S==S1)=\",str(countf1s1) + \"/\" + str(counts1),\",P(F=F1|S==S2)=\",str(countf1s2) + \"/\" + str(counts2),\",P(F=F1|S==S3)=\",str(countf1s3) + \"/\" + str(counts3))\n",
        "  print(\"P(F=F2|S==S1)=\",str(countf2s1) + \"/\" + str(counts1),\",P(F=F2|S==S2)=\",str(countf2s2) + \"/\" + str(counts2),\",P(F=F2|S==S3)=\",str(countf2s3) + \"/\" + str(counts3))\n",
        "  print(\"P(F=F3|S==S1)=\",str(countf3s1) + \"/\" + str(counts1),\",P(F=F3|S==S2)=\",str(countf3s2) + \"/\" + str(counts2),\",P(F=F3|S==S3)=\",str(countf3s3) + \"/\" + str(counts3))\n",
        "  print(\"P(F=F4|S==S1)=\",str(countf4s1) + \"/\" + str(counts1),\",P(F=F4|S==S2)=\",str(countf4s2) + \"/\" + str(counts2),\",P(F=F4|S==S3)=\",str(countf4s3) + \"/\" + str(counts3))\n",
        "  print(\"P(F=F5|S==S1)=\",str(countf5s1) + \"/\" + str(counts1),\",P(F=F5|S==S2)=\",str(countf5s2) + \"/\" + str(counts2),\",P(F=F5|S==S3)=\",str(countf5s3) + \"/\" + str(counts3))\n",
        "\n",
        "#A = [[F1,S1],[F2,S2],[F3,S3],[F1,S2],[F2,S3],[F3,S2],[F2,S1],[F4,S1],[F4,S3],[F5,S1]]\n",
        "A = [[1,7],[2,8],[3,9],[1,8],[2,9],[3,8],[2,7],[4,7],[4,9],[5,7]]\n",
        "compute_conditional_probabilites(A)"
      ],
      "execution_count": 0,
      "outputs": [
        {
          "output_type": "stream",
          "text": [
            "P(F=F1|S==S1)= 1/4 ,P(F=F1|S==S2)= 1/3 ,P(F=F1|S==S3)= 0/3\n",
            "P(F=F2|S==S1)= 1/4 ,P(F=F2|S==S2)= 1/3 ,P(F=F2|S==S3)= 1/3\n",
            "P(F=F3|S==S1)= 0/4 ,P(F=F3|S==S2)= 1/3 ,P(F=F3|S==S3)= 1/3\n",
            "P(F=F4|S==S1)= 1/4 ,P(F=F4|S==S2)= 0/3 ,P(F=F4|S==S3)= 1/3\n",
            "P(F=F5|S==S1)= 1/4 ,P(F=F5|S==S2)= 0/3 ,P(F=F5|S==S3)= 0/3\n"
          ],
          "name": "stdout"
        }
      ]
    },
    {
      "cell_type": "markdown",
      "metadata": {
        "id": "s0jTqxJrsqPU",
        "colab_type": "text"
      },
      "source": [
        "<h3> Q9: Operations on sentences </h3>\n",
        "\n",
        "You will be given two sentances S1, S2 your task is to find \n",
        "<pre>\n",
        "a. Number of common words between S1, S2\n",
        "b. Words in S1 but not in S2\n",
        "c. Words in S2 but not in S1\n",
        "</pre>\n",
        "\n",
        "Ex: \n",
        "<pre>\n",
        "S1= \"the first column F will contain only 5 unique values\"\n",
        "S2= \"the second column S will contain only 3 unique values\"\n",
        "Output:\n",
        "a. 7\n",
        "b. ['first','F','5']\n",
        "c. ['second','S','3']\n",
        "</pre>"
      ]
    },
    {
      "cell_type": "code",
      "metadata": {
        "id": "Sse_W9CusqPW",
        "colab_type": "code",
        "colab": {}
      },
      "source": [
        "# write your python code here\n",
        "# you can take the above example as sample input for your program to test\n",
        "# it should work for any general input try not to hard code for only given input strings\n",
        "\n",
        "# you can free to change all these codes/structure\n",
        "def string_features(S1, S2):\n",
        "  elem1 = [x for x in S1.split()]\n",
        "  elem2 = [x for x in S2.split()]\n",
        "  lst  =[]\n",
        "  lst2 =[]\n",
        "  lst3 =[]\n",
        "  for item in elem1:\n",
        "      if item in elem2:\n",
        "        lst3.append(item)\n",
        "  #print(len(lst3))\n",
        "  a=len(lst3)\n",
        "\n",
        "  for item in elem1:\n",
        "      if item not in elem2:\n",
        "        lst.append(item)\n",
        "  #print(lst)\n",
        "  b=lst\n",
        "\n",
        "  for item in elem2:\n",
        "      if item not in elem1:\n",
        "        lst2.append(item)\n",
        "  #print(lst2)\n",
        "  c=lst2\n",
        "\n",
        "  \n",
        "  return a, b, c\n",
        "\n",
        "S1= \"the first column F will contain only 5 uniques values\"\n",
        "S2= \"the second column S will contain only 3 uniques values\"\n",
        "a,b,c = string_features(S1, S2)\n",
        "print(a,b,c)"
      ],
      "execution_count": 0,
      "outputs": []
    },
    {
      "cell_type": "markdown",
      "metadata": {
        "id": "vEsz2Oh2sqPb",
        "colab_type": "text"
      },
      "source": [
        "<h3> Q10: Error Function</h3>\n",
        "\n",
        "You will be given a list of lists, each sublist will be of length 2 i.e. [[x,y],[p,q],[l,m]..[r,s]]\n",
        "consider its like a martrix of n rows and two columns\n",
        "\n",
        "a. the first column Y will contain interger values <br>\n",
        "b. the second column $Y_{score}$ will be having float values <br>\n",
        "Your task is to find the value of $f(Y,Y_{score}) = -1*\\frac{1}{n}\\Sigma_{for each Y,Y_{score} pair}(Ylog10(Y_{score})+(1-Y)log10(1-Y_{score}))$ here n is the number of rows in the matrix\n",
        "<pre>\n",
        "Ex:\n",
        "[[1, 0.4], [0, 0.5], [0, 0.9], [0, 0.3], [0, 0.6], [1, 0.1], [1, 0.9], [1, 0.8]]\n",
        "output:\n",
        "0.44982\n",
        "</pre>\n",
        "$\\frac{-1}{8}\\cdot((1\\cdot log_{10}(0.4)+0\\cdot log_{10}(0.6))+(0\\cdot log_{10}(0.5)+1\\cdot log_{10}(0.5)) + ... + (1\\cdot log_{10}(0.8)+0\\cdot log_{10}(0.2)) )$"
      ]
    },
    {
      "cell_type": "code",
      "metadata": {
        "id": "YOd2FlZmsqPe",
        "colab_type": "code",
        "outputId": "b848af4a-9c41-4856-87c3-5b7c9bafd8b6",
        "colab": {
          "base_uri": "https://localhost:8080/",
          "height": 35
        }
      },
      "source": [
        "# write your python code here\n",
        "# you can take the above example as sample input for your program to test\n",
        "# it should work for any general input try not to hard code for only given input strings\n",
        "import math\n",
        "\n",
        "# you can free to change all these codes/structure\n",
        "def compute_log_loss(A):\n",
        "  n =len(A)\n",
        "\n",
        "  logloss =0.0\n",
        "  for i in A:\n",
        "    y = i[0]\n",
        "    y_score = i[1]\n",
        "    #logloss = logloss + (Ylog10(Yscore)+(1−Y)log10(1−Yscore))\n",
        "    logloss  = logloss + ((y* (math.log10(y_score))) + ((1-y)*(math.log10(1-y_score))))\n",
        "  final_logloss = -(logloss/float(n))\n",
        "  return final_logloss\n",
        "\n",
        "A = [[1, 0.4], [0, 0.5], [0, 0.9], [0, 0.3], [0, 0.6], [1, 0.1], [1, 0.9], [1, 0.8]]\n",
        "loss = compute_log_loss(A)\n",
        "print(loss)"
      ],
      "execution_count": 0,
      "outputs": [
        {
          "output_type": "stream",
          "text": [
            "0.42430993457031635\n"
          ],
          "name": "stdout"
        }
      ]
    }
  ]
}