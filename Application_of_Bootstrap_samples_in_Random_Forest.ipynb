{
  "nbformat": 4,
  "nbformat_minor": 0,
  "metadata": {
    "colab": {
      "name": "Application of Bootstrap samples in Random Forest.ipynb",
      "provenance": [],
      "collapsed_sections": [],
      "include_colab_link": true
    },
    "kernelspec": {
      "display_name": "Python 3",
      "language": "python",
      "name": "python3"
    },
    "language_info": {
      "codemirror_mode": {
        "name": "ipython",
        "version": 3
      },
      "file_extension": ".py",
      "mimetype": "text/x-python",
      "name": "python",
      "nbconvert_exporter": "python",
      "pygments_lexer": "ipython3",
      "version": "3.6.8"
    }
  },
  "cells": [
    {
      "cell_type": "markdown",
      "metadata": {
        "id": "view-in-github",
        "colab_type": "text"
      },
      "source": [
        "<a href=\"https://colab.research.google.com/github/VishnuGupta5883/appliedai/blob/master/Application_of_Bootstrap_samples_in_Random_Forest.ipynb\" target=\"_parent\"><img src=\"https://colab.research.google.com/assets/colab-badge.svg\" alt=\"Open In Colab\"/></a>"
      ]
    },
    {
      "cell_type": "markdown",
      "metadata": {
        "colab_type": "text",
        "id": "AjzGopb_YcKR"
      },
      "source": [
        "# Application of Bootstrap samples in Random Forest"
      ]
    },
    {
      "cell_type": "code",
      "metadata": {
        "colab_type": "code",
        "id": "zZSCtDI6YcKT",
        "colab": {}
      },
      "source": [
        "import numpy as np\n",
        "from sklearn.datasets import load_boston\n",
        "from sklearn.metrics import mean_squared_error"
      ],
      "execution_count": 0,
      "outputs": []
    },
    {
      "cell_type": "markdown",
      "metadata": {
        "colab_type": "text",
        "id": "h2Y1Z1DoYcKZ"
      },
      "source": [
        " <li> Load the boston house dataset </li>"
      ]
    },
    {
      "cell_type": "code",
      "metadata": {
        "colab_type": "code",
        "id": "wBWRNKCDYcKb",
        "colab": {}
      },
      "source": [
        "boston = load_boston()\n",
        "x=boston.data #independent variables\n",
        "y=boston.target #target variable"
      ],
      "execution_count": 0,
      "outputs": []
    },
    {
      "cell_type": "code",
      "metadata": {
        "id": "DTbK20-mWYHU",
        "colab_type": "code",
        "outputId": "4baa450c-258e-407c-89e1-df4c6a4d0b05",
        "colab": {
          "base_uri": "https://localhost:8080/",
          "height": 33
        }
      },
      "source": [
        "x.shape"
      ],
      "execution_count": 0,
      "outputs": [
        {
          "output_type": "execute_result",
          "data": {
            "text/plain": [
              "(506, 13)"
            ]
          },
          "metadata": {
            "tags": []
          },
          "execution_count": 9
        }
      ]
    },
    {
      "cell_type": "markdown",
      "metadata": {
        "colab_type": "text",
        "id": "JJ_FwP7xYcKg"
      },
      "source": [
        "### Task: 1\n",
        "<font color='red'><b>Step 1 Creating samples: </b></font> Randomly create 30 samples from the whole boston data points.\n",
        "<ol>\n",
        "<li>Creating each sample: Consider any random 303(60% of 506) data points from whole data set and then replicate any 203 points from the sampled points</li>\n",
        "<li>Ex: For better understanding of this procedure lets check this examples, assume we have 10 data points [1,2,3,4,5,6,7,8,9,10], first we take 6 data points randomly consider we have selected [4, 5, 7, 8, 9, 3] now we will replciate 4 points from [4, 5, 7, 8, 9, 3], consder they are [5, 8, 3,7] so our final sample will be [4, 5, 7, 8, 9, 3, 5, 8, 3,7]</li>\n",
        "<li> we create 30 samples like this </li>\n",
        "<li> Note that as a part of the Bagging when you are taking the random samples make sure each of the sample will have                different set of columns</li>\n",
        "<li> Ex: assume we have 10 columns for the first sample we will select [3, 4, 5, 9, 1, 2] and for the second sample [7, 9, 1, 4, 5, 6, 2] and so on...</li>\n",
        "<li> Make sure each sample will have atleast 3 feautres/columns/attributes</li>\n",
        "</ol>\n",
        "\n",
        "<font color='red'><b>Step 2 Building High Variance Models on each of the sample and finding train MSE value:</b></font> Build a DecisionTreeRegressor on each of the sample.\n",
        "<ol><li>Build a regression trees on each of 30 samples.</li>\n",
        "<li>computed the predicted values of each data point(506 data points) in your corpus.</li>\n",
        "<li> predicted house price of $i^{th}$ data point $y^{i}_{pred} =  \\frac{1}{30}\\sum_{k=1}^{30}(\\text{predicted value of } x^{i} \\text{ with } k^{th} \\text{ model})$.</li>\n",
        "<li>Now calculate the $MSE =  \\frac{1}{506}\\sum_{i=1}^{506}(y^{i} - y^{i}_{pred})^{2}$.</li>\n",
        "</ol>\n",
        "\n",
        "<font color='red'><b>Step 3 Calculating the OOB score :</b></font>\n",
        "<ol>\n",
        "<li>Computed the predicted values of each data point(506 data points) in your corpus.</li>\n",
        "<li>Predicted house price of $i^{th}$ data point $y^{i}_{pred} =  \\frac{1}{k}\\sum_{\\text{k= model which was buit on samples not included } x^{i}}(\\text{predicted value of } x^{i} \\text{ with } k^{th} \\text{ model})$.</li>\n",
        "<li>Now calculate the $OOB Score =  \\frac{1}{506}\\sum_{i=1}^{506}(y^{i} - y^{i}_{pred})^{2}$.</li>\n",
        "</ol>\n",
        "\n",
        "### Task: 2\n",
        "<pre>\n",
        "<font color='red'><b>Computing CI of OOB Score and Train MSE</b></font>\n",
        "<ol>\n",
        "<li> Repeat Task 1 for 35 times, and for each iteration store the Train MSE and OOB score </li>\n",
        "<li> After this we will have 35 Train MSE values and 35 OOB scores </li>\n",
        "<li> using these 35 values (assume like a sample) find the confidence intravels of MSE and OOB Score </li>\n",
        "<li> you need to report CI of MSE and CI of OOB Score </li>\n",
        "<li> Note: Refer the Central_Limit_theorem.ipynb to check how to find the confidence intravel</li>\n",
        "</ol>\n",
        "</pre>\n",
        "### Task: 3\n",
        "<pre>\n",
        "<font color='red'><b>Given a single query point predict the price of house.</b></font>\n",
        "\n",
        "<li>Consider xq= [0.18,20.0,5.00,0.0,0.421,5.60,72.2,7.95,7.0,30.0,19.1,372.13,18.60] Predict the house price for this point as mentioned in the step 2 of Task 1. </li>\n",
        "</pre>"
      ]
    },
    {
      "cell_type": "markdown",
      "metadata": {
        "id": "C5QiBr5qCj17",
        "colab_type": "text"
      },
      "source": [
        "# Task-1"
      ]
    },
    {
      "cell_type": "markdown",
      "metadata": {
        "id": "j0Xhu_o3CrDL",
        "colab_type": "text"
      },
      "source": [
        "## Step-1 - Generating Bootstrap Sample"
      ]
    },
    {
      "cell_type": "code",
      "metadata": {
        "id": "p9gE6ooEv7XP",
        "colab_type": "code",
        "colab": {}
      },
      "source": [
        "import random\n",
        "\n",
        "def generate_sample(input_data,target_data):\n",
        "  \n",
        "  Selected_rows = np.random.choice(505,size=303,replace=False) # generate 303 random row\n",
        "  Selected_rows = np.sort(Selected_rows)\n",
        "  Selected_columns  = np.random.choice(13,size=13,replace=False)\n",
        "  Selected_columns =  np.sort(Selected_columns)\n",
        "  Repeated_rows = np.random.choice(Selected_rows,size=203,replace=False)# replicate 203 rows\n",
        "  Repeated_rows = np.sort(Repeated_rows)\n",
        "  sample_data = input_data[Selected_rows[:,None],Selected_columns]\n",
        "  target_sample_data = target_data[Selected_rows]\n",
        "\n",
        "  Replicated_sample_data = input_data[Repeated_rows[:,None],Selected_columns]\n",
        "  Replicated_target_sample_data = target_data[Repeated_rows]\n",
        "\n",
        "  final_sample_data = np.concatenate((sample_data,Replicated_sample_data))\n",
        "  final_target_data = np.concatenate((target_sample_data, Replicated_target_sample_data))\n",
        "\n",
        "  # generate oob rows\n",
        "  oob_rows = np.array([i for i in range(0,506) if i not in Selected_rows])\n",
        "  oob_data = input_data[oob_rows[:,None],Selected_columns]\n",
        "\n",
        "  return final_sample_data,final_target_data,Selected_rows,Selected_columns,oob_data\n",
        "\n",
        "list_input_data =[]\n",
        "list_output_data =[]\n",
        "list_selected_rows =[]\n",
        "list_selected_columns =[]\n",
        "list_oob_data =[]\n",
        "\n",
        "for i in range(30):\n",
        "  a,b,c,d,e = generate_sample(x,y)\n",
        "  list_input_data.append(a)\n",
        "  list_output_data.append(b)\n",
        "  list_selected_rows.append(c)\n",
        "  list_selected_columns.append(d)\n",
        "  list_oob_data.append(e)\n",
        "\n"
      ],
      "execution_count": 0,
      "outputs": []
    },
    {
      "cell_type": "code",
      "metadata": {
        "id": "p6kt2XTh0iCz",
        "colab_type": "code",
        "outputId": "4513ce99-792e-4c08-e294-4e26b3833933",
        "colab": {
          "base_uri": "https://localhost:8080/",
          "height": 33
        }
      },
      "source": [
        "list_selected_columns[0].shape"
      ],
      "execution_count": 0,
      "outputs": [
        {
          "output_type": "execute_result",
          "data": {
            "text/plain": [
              "(13,)"
            ]
          },
          "metadata": {
            "tags": []
          },
          "execution_count": 11
        }
      ]
    },
    {
      "cell_type": "markdown",
      "metadata": {
        "id": "s6jnFxAKCx7f",
        "colab_type": "text"
      },
      "source": [
        "## Step-2 - Calculate MSE values"
      ]
    },
    {
      "cell_type": "markdown",
      "metadata": {
        "id": "UT1CGeyTMZ-3",
        "colab_type": "text"
      },
      "source": [
        "### Train Model"
      ]
    },
    {
      "cell_type": "code",
      "metadata": {
        "id": "OjWPWvfj1Y4Z",
        "colab_type": "code",
        "colab": {}
      },
      "source": [
        "from sklearn.tree import DecisionTreeRegressor\n",
        "\n",
        "def model_train_gen(input_data,output_data):\n",
        "  models=[]\n",
        "\n",
        "  for j in range(len(input_data)):\n",
        "\n",
        "    regressor = DecisionTreeRegressor(max_depth = None)\n",
        "    model = regressor.fit(input_data[j],output_data[j])\n",
        "    models.append(model)\n",
        "  return models\n",
        "\n"
      ],
      "execution_count": 0,
      "outputs": []
    },
    {
      "cell_type": "markdown",
      "metadata": {
        "id": "0f9wzgUbMies",
        "colab_type": "text"
      },
      "source": [
        "### MSE calc"
      ]
    },
    {
      "cell_type": "code",
      "metadata": {
        "id": "I-RRB9xr3eNc",
        "colab_type": "code",
        "colab": {}
      },
      "source": [
        "def mse_score_gen(x,models,selected_columns):\n",
        "  y_pred_for_mse=[]\n",
        "\n",
        "  for i in x:\n",
        "    y_pred =[]\n",
        "\n",
        "    for j in range(len(models)):\n",
        "      y_pred.append(models[j].predict(i[selected_columns[j]].reshape(1,-1)))\n",
        "    y_pred_for_mse.append(np.median(np.asarray(y_pred)))\n",
        "\n",
        "  mse = mean_squared_error(y,np.asarray(y_pred_for_mse))\n",
        "\n",
        "\n",
        "  \n",
        "  return mse\n",
        "\n"
      ],
      "execution_count": 0,
      "outputs": []
    },
    {
      "cell_type": "markdown",
      "metadata": {
        "id": "gUvlfbjbTeFj",
        "colab_type": "text"
      },
      "source": [
        "## Step -3- Calculate OOB score"
      ]
    },
    {
      "cell_type": "code",
      "metadata": {
        "id": "WZCTu2VR7Hj9",
        "colab_type": "code",
        "colab": {}
      },
      "source": [
        "def oob_score_gen(x,models,selected_columns,selected_rows):\n",
        "  y_pred_for_oob=[]\n",
        "\n",
        "  for i in range(len(x)):\n",
        "    a=x[i]\n",
        "    y_pred =[]\n",
        "\n",
        "    for j in range(len(models)):\n",
        "      if i not in selected_rows[j]:\n",
        "        y_pred.append(models[j].predict(a[selected_columns[j]].reshape(1,-1)))\n",
        "    y_pred_for_oob.append(np.median(np.asarray(y_pred)))\n",
        "\n",
        "  oob = mean_squared_error(y,np.asarray(y_pred_for_oob))\n",
        "\n",
        "  \n",
        "  return oob\n",
        "\n"
      ],
      "execution_count": 0,
      "outputs": []
    },
    {
      "cell_type": "markdown",
      "metadata": {
        "id": "1aEQGOsdYQo1",
        "colab_type": "text"
      },
      "source": [
        "# Execution of MSE and OOB score"
      ]
    },
    {
      "cell_type": "code",
      "metadata": {
        "id": "BhvY6Pn_Ot4l",
        "colab_type": "code",
        "outputId": "6110be3a-210f-4ea2-ec98-457f9f6ae379",
        "colab": {
          "base_uri": "https://localhost:8080/",
          "height": 50
        }
      },
      "source": [
        "models = model_train_gen(list_input_data,list_output_data)\n",
        "mse = mse_score_gen(x,models,list_selected_columns)\n",
        "print(mse)\n",
        "oob = oob_score_gen(x,models,list_selected_columns,list_selected_rows)\n",
        "print(oob)"
      ],
      "execution_count": 0,
      "outputs": [
        {
          "output_type": "stream",
          "text": [
            "0.328498023715415\n",
            "11.256506916996047\n"
          ],
          "name": "stdout"
        }
      ]
    },
    {
      "cell_type": "markdown",
      "metadata": {
        "id": "KKtQAOFjczGU",
        "colab_type": "text"
      },
      "source": [
        "# Task-2 -Computing CI of OOB Score and Train MSE"
      ]
    },
    {
      "cell_type": "code",
      "metadata": {
        "id": "4zZt_2ZnjuIZ",
        "colab_type": "code",
        "outputId": "5db08a15-9849-4528-de18-6882502807c5",
        "colab": {
          "base_uri": "https://localhost:8080/",
          "height": 50
        }
      },
      "source": [
        "MSE_arr =[]\n",
        "OOB_arr =[]\n",
        "list_input_data =[]\n",
        "list_output_data =[]\n",
        "list_selected_rows =[]\n",
        "list_selected_columns =[]\n",
        "list_oob_data =[]\n",
        "\n",
        "for j in range(35):\n",
        "\n",
        "  for i in range(30):\n",
        "    o,p,q,r,s = generate_sample(x,y)\n",
        "    list_input_data.append(o)\n",
        "    list_output_data.append(p)\n",
        "    list_selected_rows.append(q)\n",
        "    list_selected_columns.append(r)\n",
        "    list_oob_data.append(s)\n",
        "  \n",
        "  updated_models = model_train_gen(list_input_data,list_output_data)\n",
        "\n",
        "  mse_val = mse_score_gen(x,updated_models, list_selected_columns)\n",
        "  MSE_arr.append(mse_val)\n",
        "  \n",
        "  oob_val = oob_score_gen(x,updated_models,list_selected_columns,list_selected_rows)\n",
        "  OOB_arr.append(oob_val)\n",
        "\n",
        "print(len(MSE_arr))\n",
        "print(len(OOB_arr))"
      ],
      "execution_count": 0,
      "outputs": [
        {
          "output_type": "stream",
          "text": [
            "35\n",
            "35\n"
          ],
          "name": "stdout"
        }
      ]
    },
    {
      "cell_type": "code",
      "metadata": {
        "id": "Kaw3qfkElhKI",
        "colab_type": "code",
        "outputId": "20856b37-69a6-464f-9555-5a9a260fd411",
        "colab": {
          "base_uri": "https://localhost:8080/",
          "height": 600
        }
      },
      "source": [
        "MSE_arr"
      ],
      "execution_count": 0,
      "outputs": [
        {
          "output_type": "execute_result",
          "data": {
            "text/plain": [
              "[0.21084486166007912,\n",
              " 0.1510326086956522,\n",
              " 0.14990118577075104,\n",
              " 0.1505533596837945,\n",
              " 0.14958498023715416,\n",
              " 0.14958498023715416,\n",
              " 0.14958498023715416,\n",
              " 0.14958498023715416,\n",
              " 0.14958498023715416,\n",
              " 0.14958498023715416,\n",
              " 0.14958498023715416,\n",
              " 0.14958498023715416,\n",
              " 0.14958498023715416,\n",
              " 0.14958498023715416,\n",
              " 0.14958498023715416,\n",
              " 0.14958498023715416,\n",
              " 0.14958498023715416,\n",
              " 0.14958498023715416,\n",
              " 0.14958498023715416,\n",
              " 0.14958498023715416,\n",
              " 0.14958498023715416,\n",
              " 0.14958498023715416,\n",
              " 0.14958498023715416,\n",
              " 0.14958498023715416,\n",
              " 0.14958498023715416,\n",
              " 0.14958498023715416,\n",
              " 0.14958498023715416,\n",
              " 0.14958498023715416,\n",
              " 0.14958498023715416,\n",
              " 0.14958498023715416,\n",
              " 0.14958498023715416,\n",
              " 0.14958498023715416,\n",
              " 0.14958498023715416,\n",
              " 0.14958498023715416,\n",
              " 0.14958498023715416]"
            ]
          },
          "metadata": {
            "tags": []
          },
          "execution_count": 18
        }
      ]
    },
    {
      "cell_type": "markdown",
      "metadata": {
        "id": "oFD3m8xXSM0t",
        "colab_type": "text"
      },
      "source": [
        "## MSE CI"
      ]
    },
    {
      "cell_type": "code",
      "metadata": {
        "id": "NGLnwM6xRmQY",
        "colab_type": "code",
        "outputId": "9cf1a57c-5a9f-4841-d32a-403fcaa9d4b4",
        "colab": {
          "base_uri": "https://localhost:8080/",
          "height": 33
        }
      },
      "source": [
        "np.percentile(MSE_arr, [2.5,  97.5])\n"
      ],
      "execution_count": 0,
      "outputs": [
        {
          "output_type": "execute_result",
          "data": {
            "text/plain": [
              "array([0.14958498, 0.16000445])"
            ]
          },
          "metadata": {
            "tags": []
          },
          "execution_count": 19
        }
      ]
    },
    {
      "cell_type": "markdown",
      "metadata": {
        "id": "31VEb65LSeHA",
        "colab_type": "text"
      },
      "source": [
        "## OOB CI"
      ]
    },
    {
      "cell_type": "code",
      "metadata": {
        "id": "Kc4Eg2-1SViX",
        "colab_type": "code",
        "outputId": "d3ef1976-9e11-4269-caa7-e70e686ff2c7",
        "colab": {
          "base_uri": "https://localhost:8080/",
          "height": 33
        }
      },
      "source": [
        "np.percentile(OOB_arr, [2.5,  97.5])"
      ],
      "execution_count": 0,
      "outputs": [
        {
          "output_type": "execute_result",
          "data": {
            "text/plain": [
              "array([ 8.91964822, 10.75953977])"
            ]
          },
          "metadata": {
            "tags": []
          },
          "execution_count": 20
        }
      ]
    },
    {
      "cell_type": "markdown",
      "metadata": {
        "id": "m-SePRoDelDw",
        "colab_type": "text"
      },
      "source": [
        "# Task-3 - Predict house price"
      ]
    },
    {
      "cell_type": "code",
      "metadata": {
        "id": "DqqkNWTDn6Jo",
        "colab_type": "code",
        "outputId": "663fe784-56c9-4cb0-c423-888a9acdaec7",
        "colab": {
          "base_uri": "https://localhost:8080/",
          "height": 33
        }
      },
      "source": [
        "import numpy as np\n",
        "xq= [0.18,20.0,5.00,0.0,0.421,5.60,72.2,7.95,7.0,30.0,19.1,372.13,18.60]\n",
        "xq= np.array(xq).reshape(1,-1)\n",
        "xq.shape"
      ],
      "execution_count": 0,
      "outputs": [
        {
          "output_type": "execute_result",
          "data": {
            "text/plain": [
              "(1, 13)"
            ]
          },
          "metadata": {
            "tags": []
          },
          "execution_count": 21
        }
      ]
    },
    {
      "cell_type": "code",
      "metadata": {
        "id": "L6Bmii9RVL-I",
        "colab_type": "code",
        "outputId": "218d6aaa-07c7-4a87-e354-053843c83f8a",
        "colab": {
          "base_uri": "https://localhost:8080/",
          "height": 33
        }
      },
      "source": [
        "def pred_price(xq,models,selected_columns):\n",
        "  y_pred_price=[]\n",
        "\n",
        "  for i in xq:\n",
        "    y_pred =[]\n",
        "\n",
        "    for j in range(len(models)):\n",
        "      y_pred.append(models[j].predict(i[selected_columns[j]].reshape(1,-1)))\n",
        "    y_pred_price.append(np.median(np.asarray(y_pred)))\n",
        " \n",
        "  return y_pred_price\n",
        "\n",
        "house_price = pred_price(xq,models,list_selected_columns)\n",
        "print(house_price)"
      ],
      "execution_count": 0,
      "outputs": [
        {
          "output_type": "stream",
          "text": [
            "[18.5]\n"
          ],
          "name": "stdout"
        }
      ]
    }
  ]
}