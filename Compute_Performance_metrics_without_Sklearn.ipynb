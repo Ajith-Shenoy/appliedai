{
  "nbformat": 4,
  "nbformat_minor": 0,
  "metadata": {
    "colab": {
      "name": "Compute Performance metrics without Sklearn.ipynb",
      "provenance": [],
      "collapsed_sections": [],
      "include_colab_link": true
    },
    "language_info": {
      "codemirror_mode": {
        "name": "ipython",
        "version": 3
      },
      "file_extension": ".py",
      "mimetype": "text/x-python",
      "name": "python",
      "nbconvert_exporter": "python",
      "pygments_lexer": "ipython3",
      "version": "3.6.8"
    },
    "kernelspec": {
      "display_name": "Python 3",
      "language": "python",
      "name": "python3"
    }
  },
  "cells": [
    {
      "cell_type": "markdown",
      "metadata": {
        "id": "view-in-github",
        "colab_type": "text"
      },
      "source": [
        "<a href=\"https://colab.research.google.com/github/VishnuGupta5883/appliedai/blob/master/Compute_Performance_metrics_without_Sklearn.ipynb\" target=\"_parent\"><img src=\"https://colab.research.google.com/assets/colab-badge.svg\" alt=\"Open In Colab\"/></a>"
      ]
    },
    {
      "cell_type": "markdown",
      "metadata": {
        "id": "s0Ej_bXyQvnV",
        "colab_type": "text"
      },
      "source": [
        "# Compute performance metrics for the given Y and Y_score without sklearn"
      ]
    },
    {
      "cell_type": "code",
      "metadata": {
        "id": "10MlZZz0VlnL",
        "colab_type": "code",
        "outputId": "a109f997-da19-4275-b8d2-59de80088e27",
        "colab": {
          "base_uri": "https://localhost:8080/",
          "height": 126
        }
      },
      "source": [
        "from google.colab import drive\n",
        "drive.mount('/content/drive')\n"
      ],
      "execution_count": 1,
      "outputs": [
        {
          "output_type": "stream",
          "text": [
            "Go to this URL in a browser: https://accounts.google.com/o/oauth2/auth?client_id=947318989803-6bn6qk8qdgf4n4g3pfee6491hc0brc4i.apps.googleusercontent.com&redirect_uri=urn%3aietf%3awg%3aoauth%3a2.0%3aoob&response_type=code&scope=email%20https%3a%2f%2fwww.googleapis.com%2fauth%2fdocs.test%20https%3a%2f%2fwww.googleapis.com%2fauth%2fdrive%20https%3a%2f%2fwww.googleapis.com%2fauth%2fdrive.photos.readonly%20https%3a%2f%2fwww.googleapis.com%2fauth%2fpeopleapi.readonly\n",
            "\n",
            "Enter your authorization code:\n",
            "··········\n",
            "Mounted at /content/drive\n"
          ],
          "name": "stdout"
        }
      ]
    },
    {
      "cell_type": "code",
      "metadata": {
        "id": "4CHb6NE7Qvnc",
        "colab_type": "code",
        "colab": {}
      },
      "source": [
        "import numpy as np\n",
        "import pandas as pd\n",
        "# other than these two you should not import any other packages\n",
        "\n",
        "#Load 5_a.csv, 5_b.csv, into a pandas dataFrames.\n",
        "df1 = pd.read_csv(\"/content/drive/My Drive/Colab Notebooks/5_a.csv\")\n",
        "df2 = pd.read_csv(\"/content/drive/My Drive/Colab Notebooks/5_b.csv\")\n",
        "df3 = pd.read_csv(\"/content/drive/My Drive/Colab Notebooks/5_c.csv\")\n",
        "df4 = pd.read_csv(\"/content/drive/My Drive/Colab Notebooks/5_d.csv\")\n",
        "#data1['y'].value_counts()\n",
        "#print(df1.head())"
      ],
      "execution_count": 0,
      "outputs": []
    },
    {
      "cell_type": "markdown",
      "metadata": {
        "id": "KbsWXuDaQvnq",
        "colab_type": "text"
      },
      "source": [
        "<pre>\n",
        "<font color='red'><b>A.</b></font> Compute performance metrics for the given data <strong>5_a.csv</strong>\n",
        "   <b>Note 1:</b> in this data you can see number of positive points >> number of negatives points\n",
        "   <b>Note 2:</b> use pandas or numpy to read the data from <b>5_a.csv</b>\n",
        "   <b>Note 3:</b> you need to derive the class labels from given score</pre> $y^{pred}= \\text{[0 if y_score < 0.5 else 1]}$\n",
        "\n",
        "<pre>\n",
        "<ol>\n",
        "<li> Compute Confusion Matrix </li>\n",
        "<li> Compute F1 Score </li>\n",
        "<li> Compute AUC Score, you need to compute different thresholds and for each threshold compute tpr,fpr and then use               numpy.trapz(tpr_array, fpr_array) <a href='https://stackoverflow.com/q/53603376/4084039'>https://stackoverflow.com/q/53603376/4084039</a>, <a href='https://stackoverflow.com/a/39678975/4084039'>https://stackoverflow.com/a/39678975/4084039</a> Note: it should be numpy.trapz(tpr_array, fpr_array) not numpy.trapz(fpr_array, tpr_array)</li>\n",
        "<li> Compute Accuracy Score </li>\n",
        "</ol>\n",
        "</pre>"
      ]
    },
    {
      "cell_type": "code",
      "metadata": {
        "id": "WaFLW7oBQvnt",
        "colab_type": "code",
        "outputId": "6404214d-7a1e-41dc-f9d9-9b4819c03797",
        "colab": {
          "base_uri": "https://localhost:8080/",
          "height": 106
        }
      },
      "source": [
        "# write your code here\n",
        "df1['y_pred'] = df1['proba'].apply(lambda x: 0.0 if x < 0.5 else 1.0)\n",
        "# 1. Confusion Matrix\n",
        "conf_mat = np.zeros((2,2),dtype=int)\n",
        "for index, row in df1.iterrows():\n",
        "  if row[\"y\"]==0.0 and row[\"y_pred\"] == 0.0:\n",
        "    conf_mat[0][0] = conf_mat[0][0] + 1\n",
        "  elif row[\"y\"]==1.0 and row[\"y_pred\"] == 0.0:\n",
        "    conf_mat[0][1] = conf_mat[0][1] + 1\n",
        "  elif row[\"y\"]==0.0 and row[\"y_pred\"] == 1.0:\n",
        "    conf_mat[1][0] = conf_mat[1][0] + 1\n",
        "  elif row[\"y\"]==1.0 and row[\"y_pred\"] == 1.0:\n",
        "    conf_mat[1][1] = conf_mat[1][1] + 1\n",
        "\n",
        "print(\"Confusion Matrix :\",conf_mat)\n",
        "\n",
        "#2 Compute F1 Score\n",
        "\n",
        "calc_precision = conf_mat[1][1]/(conf_mat[1][0]+conf_mat[1][1]) # compute Precision\n",
        "calc_recall    = conf_mat[1][1]/(conf_mat[0][1]+conf_mat[1][1]) # compute Recall\n",
        "\n",
        "f1 = 2 *((calc_precision * calc_recall)/(calc_precision + calc_recall)) \n",
        "print(\"F1 Score :\",f1)\n",
        "\n",
        "#3. Compute AUC score\n",
        "df_a = df1[['y','proba']] # pick only required fields\n",
        "#df_a.head()\n",
        "a=df_a.sort_values(['proba'], ascending=[False])\n",
        "\n",
        "arr = a.proba.unique()\n",
        "#print(arr[0])\n",
        "\n",
        "#df['color'] = np.where(df['Set']=='Z', 'green', 'red')\n",
        "tpr=[]\n",
        "fpr=[]\n",
        "for i in range(len(a)):\n",
        "  a['y_tow']= np.where(a['proba'] >= arr[i],1.0,0.0)\n",
        "  #print(a.head(10))\n",
        "  tp = [x for x,y in zip(a['y'],a['y_tow'])if x == 1.0 and y == 1.0]\n",
        "  fp = [x for x,y in zip(a['y'],a['y_tow'])if x == 0.0 and y == 1.0]\n",
        "  tn = [x for x,y in zip(a['y'],a['y_tow'])if x == 0.0 and y == 0.0]\n",
        "  fn = [x for x,y in zip(a['y'],a['y_tow'])if x == 1.0 and y == 0.0]\n",
        "  tpr.append(len(tp)/(len(tp) + len(fn)))\n",
        "  fpr.append(len(fp)/(len(fp) + len(tn)))\n",
        "  a.pop('y_tow') \n",
        "\n",
        "#print(tpr)\n",
        "\n",
        "AUC_score = np.trapz(tpr,fpr)\n",
        "print(\"AUC score\",AUC_score)\n",
        "\n",
        "#4. Compute Accuracy Score\n",
        "\n",
        "Ac_score = (conf_mat[1][1] + conf_mat[0][0]) /len(df1)\n",
        "print(\"Accuracy Score :\", Ac_score)\n",
        "\n",
        "\n",
        "\n"
      ],
      "execution_count": 20,
      "outputs": [
        {
          "output_type": "stream",
          "text": [
            "Confusion Matrix : [[    0     0]\n",
            " [  100 10000]]\n",
            "F1 Score : 0.9950248756218906\n",
            "AUC score 0.48829900000000004\n",
            "Accuracy Score : 0.9900990099009901\n"
          ],
          "name": "stdout"
        }
      ]
    },
    {
      "cell_type": "code",
      "metadata": {
        "id": "yRdnSwBTW0ef",
        "colab_type": "code",
        "outputId": "0318b375-3e81-42b3-b815-433aa5daad21",
        "colab": {
          "base_uri": "https://localhost:8080/",
          "height": 295
        }
      },
      "source": [
        "# task-a ROC curve\n",
        "\n",
        "import matplotlib.pyplot as plt\n",
        "plt.figure()\n",
        "plt.plot(fpr, tpr, color='darkorange')\n",
        "plt.plot([0, 1], [0, 1], color='navy', linestyle='--')\n",
        "#plt.xlim([0.0, 1.0])\n",
        "#plt.ylim([0.0, 1.0])\n",
        "plt.xlabel('False Positive Rate')\n",
        "plt.ylabel('True Positive Rate')\n",
        "plt.title('Receiver operating characteristic Curve')\n",
        "plt.show()"
      ],
      "execution_count": 21,
      "outputs": [
        {
          "output_type": "display_data",
          "data": {
            "image/png": "[encoded data removed]",
            "text/plain": [
              "<Figure size 432x288 with 1 Axes>"
            ]
          },
          "metadata": {
            "tags": []
          }
        }
      ]
    },
    {
      "cell_type": "markdown",
      "metadata": {
        "id": "V5KZem1BQvn2",
        "colab_type": "text"
      },
      "source": [
        "<pre>\n",
        "<font color='red'><b>B.</b></font> Compute performance metrics for the given data <strong>5_b.csv</strong>\n",
        "   <b>Note 1:</b> in this data you can see number of positive points << number of negatives points\n",
        "   <b>Note 2:</b> use pandas or numpy to read the data from <b>5_b.csv</b>\n",
        "   <b>Note 3:</b> you need to derive the class labels from given score</pre> $y^{pred}= \\text{[0 if y_score < 0.5 else 1]}$\n",
        "\n",
        "<pre>\n",
        "<ol>\n",
        "<li> Compute Confusion Matrix </li>\n",
        "<li> Compute F1 Score </li>\n",
        "<li> Compute AUC Score, you need to compute different thresholds and for each threshold compute tpr,fpr and then use               numpy.trapz(tpr_array, fpr_array) <a href='https://stackoverflow.com/q/53603376/4084039'>https://stackoverflow.com/q/53603376/4084039</a>, <a href='https://stackoverflow.com/a/39678975/4084039'>https://stackoverflow.com/a/39678975/4084039</a></li>\n",
        "<li> Compute Accuracy Score </li>\n",
        "</ol>\n",
        "</pre>"
      ]
    },
    {
      "cell_type": "code",
      "metadata": {
        "id": "U2sKlq0YQvn5",
        "colab_type": "code",
        "outputId": "6fcb983f-d8b6-459f-a63e-de756efa47ae",
        "colab": {
          "base_uri": "https://localhost:8080/",
          "height": 106
        }
      },
      "source": [
        "#df2 = pd.read_csv(\"/content/drive/My Drive/Colab Notebooks/5_b.csv\")\n",
        "df2['y_pred'] = df2['proba'].apply(lambda x: 0.0 if x < 0.5 else 1.0)\n",
        "df2.head(10)\n",
        "df2['y'].value_counts()\n",
        "\n",
        "# write your code here\n",
        "# 1. Confusion Matrix\n",
        "conf_mat = np.zeros((2,2),dtype=int)\n",
        "for index, row in df2.iterrows():\n",
        "  if row[\"y\"]==0.0 and row[\"y_pred\"] == 0.0:\n",
        "    conf_mat[0][0] = conf_mat[0][0] + 1\n",
        "  elif row[\"y\"]==1.0 and row[\"y_pred\"] == 0.0:\n",
        "    conf_mat[0][1] = conf_mat[0][1] + 1\n",
        "  elif row[\"y\"]==0.0 and row[\"y_pred\"] == 1.0:\n",
        "    conf_mat[1][0] = conf_mat[1][0] + 1\n",
        "  elif row[\"y\"]==1.0 and row[\"y_pred\"] == 1.0:\n",
        "    conf_mat[1][1] = conf_mat[1][1] + 1\n",
        "\n",
        "print(\"Confusion Matrix :\",conf_mat)\n",
        "\n",
        "#2 Compute F1 Score\n",
        "\n",
        "calc_precision = conf_mat[1][1]/(conf_mat[1][0]+conf_mat[1][1]) # compute Precision\n",
        "calc_recall    = conf_mat[1][1]/(conf_mat[0][1]+conf_mat[1][1]) # compute Recall\n",
        "\n",
        "f1 = 2 *((calc_precision * calc_recall)/(calc_precision + calc_recall)) \n",
        "print(\"F1 Score :\",f1)\n",
        "\n",
        "#3. Compute AUC score\n",
        "df_a = df2[['y','proba']] # pick only required fields\n",
        "#df_a.head()\n",
        "a=df_a.sort_values(['proba'], ascending=[False])\n",
        "\n",
        "arr = a.proba.unique()\n",
        "#print(arr[0])\n",
        "\n",
        "#df['color'] = np.where(df['Set']=='Z', 'green', 'red')\n",
        "tpr=[]\n",
        "fpr=[]\n",
        "for i in range(len(a)):\n",
        "  a['y_tow']= np.where(a['proba'] >= arr[i],1.0,0.0)\n",
        "  #print(a.head(10))\n",
        "  tp = [x for x,y in zip(a['y'],a['y_tow'])if x == 1.0 and y == 1.0]\n",
        "  fp = [x for x,y in zip(a['y'],a['y_tow'])if x == 0.0 and y == 1.0]\n",
        "  tn = [x for x,y in zip(a['y'],a['y_tow'])if x == 0.0 and y == 0.0]\n",
        "  fn = [x for x,y in zip(a['y'],a['y_tow'])if x == 1.0 and y == 0.0]\n",
        "  tpr.append(len(tp)/(len(tp) + len(fn)))\n",
        "  fpr.append(len(fp)/(len(fp) + len(tn)))\n",
        "  a.pop('y_tow') \n",
        "\n",
        "#print(tpr)\n",
        "\n",
        "AUC_score = np.trapz(tpr,fpr)\n",
        "print(\"AUC score\",AUC_score)\n",
        "\n",
        "#4. Compute Accuracy Score\n",
        "\n",
        "Ac_score = (conf_mat[1][1] + conf_mat[0][0]) /len(df2)\n",
        "print(\"Accuracy Score :\", Ac_score)\n",
        "\n",
        "\n"
      ],
      "execution_count": 23,
      "outputs": [
        {
          "output_type": "stream",
          "text": [
            "Confusion Matrix : [[9761   45]\n",
            " [ 239   55]]\n",
            "F1 Score : 0.2791878172588833\n",
            "AUC score 0.9377570000000001\n",
            "Accuracy Score : 0.9718811881188119\n"
          ],
          "name": "stdout"
        }
      ]
    },
    {
      "cell_type": "code",
      "metadata": {
        "id": "DVC8bfQpY7PM",
        "colab_type": "code",
        "outputId": "abe45911-a194-42b2-f3c4-ca86247cd706",
        "colab": {
          "base_uri": "https://localhost:8080/",
          "height": 295
        }
      },
      "source": [
        "# task-B -ROC curve\n",
        "\n",
        "import matplotlib.pyplot as plt\n",
        "plt.figure()\n",
        "plt.plot(fpr, tpr, color='darkorange')\n",
        "plt.plot([0, 1], [0, 1], color='navy', linestyle='--')\n",
        "#plt.xlim([0.0, 1.0])\n",
        "#plt.ylim([0.0, 1.0])\n",
        "plt.xlabel('False Positive Rate')\n",
        "plt.ylabel('True Positive Rate')\n",
        "plt.title('Receiver operating characteristic Curve')\n",
        "plt.show()"
      ],
      "execution_count": 24,
      "outputs": [
        {
          "output_type": "display_data",
          "data": {
            "image/png": "[encoded data removed]",
            "text/plain": [
              "<Figure size 432x288 with 1 Axes>"
            ]
          },
          "metadata": {
            "tags": []
          }
        }
      ]
    },
    {
      "cell_type": "markdown",
      "metadata": {
        "id": "GiPGonTzQvoB",
        "colab_type": "text"
      },
      "source": [
        "<font color='red'><b>C.</b></font> Compute the best threshold (similarly to ROC curve computation) of probability which gives lowest values of metric <b>A</b> for the given data <strong>5_c.csv</strong>\n",
        "<br>\n",
        "\n",
        "you will be predicting label of a data points like this: $y^{pred}= \\text{[0 if y_score < threshold  else 1]}$\n",
        "\n",
        "$ A = 500 \\times \\text{number of false negative} + 100 \\times \\text{numebr of false positive}$\n",
        "\n",
        "<pre>\n",
        "   <b>Note 1:</b> in this data you can see number of negative points > number of positive points\n",
        "   <b>Note 2:</b> use pandas or numpy to read the data from <b>5_c.csv</b>\n",
        "</pre>"
      ]
    },
    {
      "cell_type": "code",
      "metadata": {
        "id": "x5HIJzq1QvoE",
        "colab_type": "code",
        "outputId": "3eab9a71-9985-46e9-8e46-e34aa01d3314",
        "colab": {
          "base_uri": "https://localhost:8080/",
          "height": 35
        }
      },
      "source": [
        " # write your code\n",
        "#df3 = pd.read_csv(\"/content/drive/My Drive/Colab Notebooks/5_c.csv\")\n",
        "#df3['y_pred'] = df2['proba'].apply(lambda x: 0.0 if x < 0.5 else 1.0)\n",
        "df3.head(10)\n",
        "df3['y'].value_counts()\n",
        "\n",
        "df_a = df3[['y','prob']] # pick only required fields\n",
        "#df_a.head()\n",
        "a=df_a.sort_values(['prob'], ascending=[False])\n",
        "\n",
        "arr = a.prob # icking only probability score\n",
        "#print(len(arr))\n",
        "\n",
        "A={}\n",
        "\n",
        "for i in range(len(a)):\n",
        "  a['y_pred']= np.where(a['prob'] >= arr[i],1.0,0.0)\n",
        "  #print(a.head(10))\n",
        "  tp = [x for x,y in zip(a['y'],a['y_pred'])if x == 1.0 and y == 1.0]\n",
        "  fp = [x for x,y in zip(a['y'],a['y_pred'])if x == 0.0 and y == 1.0]\n",
        "  tn = [x for x,y in zip(a['y'],a['y_pred'])if x == 0.0 and y == 0.0]\n",
        "  fn = [x for x,y in zip(a['y'],a['y_pred'])if x == 1.0 and y == 0.0]\n",
        "  fp_n = len(fp)\n",
        "  fn_n = len(fn)\n",
        "  mat = (500 * fn_n) + (100 * fp_n)\n",
        "  A[arr[i]] = mat\n",
        "  a.pop('y_pred')\n",
        "\n",
        "#print(A)\n",
        "A = sorted(A.items(), key=lambda x: x[1], reverse=False)\n",
        "print(\"Best threshold and corresponding A value: \",A[1])"
      ],
      "execution_count": 7,
      "outputs": [
        {
          "output_type": "stream",
          "text": [
            "Best threshold and corresponding A value:  (0.22987164436159915, 141100)\n"
          ],
          "name": "stdout"
        }
      ]
    },
    {
      "cell_type": "markdown",
      "metadata": {
        "id": "sD4CcgjXQvoL",
        "colab_type": "text"
      },
      "source": [
        "<pre>\n",
        "<font color='red'><b>D.</b></font> Compute performance metrics(for regression) for the given data <strong>5_d.csv</strong>\n",
        "    <b>Note 2:</b> use pandas or numpy to read the data from <b>5_d.csv</b>\n",
        "    <b>Note 1:</b> <b>5_d.csv</b> will having two columns Y and predicted_Y both are real valued features\n",
        "<ol>\n",
        "<li> Compute Mean Square Error </li>\n",
        "<li> Compute MAPE: https://www.youtube.com/watch?v=ly6ztgIkUxk</li>\n",
        "<li> Compute R^2 error: https://en.wikipedia.org/wiki/Coefficient_of_determination#Definitions </li>\n",
        "</ol>\n",
        "</pre>"
      ]
    },
    {
      "cell_type": "code",
      "metadata": {
        "id": "3Q-0vS5yu80J",
        "colab_type": "code",
        "outputId": "cc34a94f-e847-4cae-bda6-ac1c4b557baa",
        "colab": {
          "base_uri": "https://localhost:8080/",
          "height": 70
        }
      },
      "source": [
        "#df4 = pd.read_csv(\"/content/drive/My Drive/Colab Notebooks/5_d.csv\")\n",
        "#df4.head(10)\n",
        "\n",
        "#1.Compute Mean Square Error\n",
        "MSE =0.0\n",
        "\n",
        "for index, row in df4.iterrows():\n",
        "  MSE = MSE + ((row['y'] - row['pred'])*(row['y'] - row['pred']))\n",
        "MSE = MSE/len(df4)\n",
        "\n",
        "print(\"Mean Square Error is :\", MSE)\n",
        "\n",
        "#2.Compute MAPE:\n",
        "\n",
        "error =  0.0\n",
        "actual = 0.0\n",
        "for index, row in df4.iterrows():\n",
        "  error  = error  + abs(row['pred']-row['y'])\n",
        "  actual = actual + row['y']\n",
        "MAPE = error/actual\n",
        "\n",
        "print(\"Mean Absolute percentage error:\",MAPE)\n",
        "\n",
        "#3 Compute R^2 error\n",
        "avg_y = df4.y.mean()\n",
        "SS_res=0.0\n",
        "SS_tot=0.0\n",
        "\n",
        "\n",
        "for index, row in df4.iterrows():\n",
        "  SS_res = SS_res + ((row['y'] - row['pred'])*(row['y'] - row['pred']))\n",
        "  SS_tot = SS_tot  + ((row['y'] - avg_y)*(row['y'] - avg_y))\n",
        "\n",
        "r_square = 1 -(SS_res/SS_tot)\n",
        "\n",
        "print(\"R square error\",r_square)\n",
        "\n",
        "\n"
      ],
      "execution_count": 8,
      "outputs": [
        {
          "output_type": "stream",
          "text": [
            "Mean Square Error is : 177.16569974554707\n",
            "Mean Absolute percentage error: 0.1291202994009687\n",
            "R square error 0.9563582786990964\n"
          ],
          "name": "stdout"
        }
      ]
    }
  ]
}